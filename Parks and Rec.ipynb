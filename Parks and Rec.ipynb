{
 "cells": [
  {
   "cell_type": "markdown",
   "metadata": {},
   "source": [
    "# Data Preparation and Cleaning"
   ]
  },
  {
   "cell_type": "code",
   "execution_count": 204,
   "metadata": {},
   "outputs": [],
   "source": [
    "# Load libraries\n",
    "import pandas as pd\n",
    "import numpy as np\n",
    "import matplotlib.pyplot as plt\n",
    "import matplotlib.style as style\n",
    "%matplotlib inline"
   ]
  },
  {
   "cell_type": "code",
   "execution_count": 205,
   "metadata": {},
   "outputs": [],
   "source": [
    "# Load data \n",
    "df = pd.read_excel('PRNS_Activities 2013-2015.xlsx', sheet_name=None)\n",
    "df = pd.concat((df[i] for i in df.keys()), sort=False)"
   ]
  },
  {
   "cell_type": "code",
   "execution_count": 206,
   "metadata": {},
   "outputs": [
    {
     "data": {
      "text/html": [
       "<div>\n",
       "<style scoped>\n",
       "    .dataframe tbody tr th:only-of-type {\n",
       "        vertical-align: middle;\n",
       "    }\n",
       "\n",
       "    .dataframe tbody tr th {\n",
       "        vertical-align: top;\n",
       "    }\n",
       "\n",
       "    .dataframe thead th {\n",
       "        text-align: right;\n",
       "    }\n",
       "</style>\n",
       "<table border=\"1\" class=\"dataframe\">\n",
       "  <thead>\n",
       "    <tr style=\"text-align: right;\">\n",
       "      <th></th>\n",
       "      <th>ActivityNumber</th>\n",
       "      <th>ActivityName</th>\n",
       "      <th>SeasonName</th>\n",
       "      <th>Status</th>\n",
       "      <th>CategoryName</th>\n",
       "      <th>Community Center</th>\n",
       "      <th>NumberEnrolled</th>\n",
       "      <th>BeginningDate</th>\n",
       "      <th>EndingDate</th>\n",
       "      <th>StartingTime</th>\n",
       "      <th>EndingTime</th>\n",
       "      <th>Minimum Age</th>\n",
       "      <th>Maximum Age</th>\n",
       "      <th>WeekDays</th>\n",
       "      <th>NumberOfHours</th>\n",
       "      <th>NumberOfDates</th>\n",
       "      <th>Fee</th>\n",
       "      <th>Fees</th>\n",
       "      <th>Day(s)</th>\n",
       "    </tr>\n",
       "  </thead>\n",
       "  <tbody>\n",
       "    <tr>\n",
       "      <th>0</th>\n",
       "      <td>251.2.0707</td>\n",
       "      <td>Arthritis Exercise Program</td>\n",
       "      <td>Fall 2015</td>\n",
       "      <td>Closed</td>\n",
       "      <td>Active Adults (50+) Classes</td>\n",
       "      <td>Almaden Community Center</td>\n",
       "      <td>7</td>\n",
       "      <td>2015-08-06</td>\n",
       "      <td>2015-08-31</td>\n",
       "      <td>13:30:00</td>\n",
       "      <td>14:30:00</td>\n",
       "      <td>50</td>\n",
       "      <td>0</td>\n",
       "      <td>M Th</td>\n",
       "      <td>8.0</td>\n",
       "      <td>8</td>\n",
       "      <td>37.0</td>\n",
       "      <td>NaN</td>\n",
       "      <td>NaN</td>\n",
       "    </tr>\n",
       "    <tr>\n",
       "      <th>1</th>\n",
       "      <td>251.2.1800</td>\n",
       "      <td>Arthritis Exercise Program</td>\n",
       "      <td>Fall 2015</td>\n",
       "      <td>Closed</td>\n",
       "      <td>Active Adults (50+) Classes</td>\n",
       "      <td>Almaden Community Center</td>\n",
       "      <td>13</td>\n",
       "      <td>2015-09-03</td>\n",
       "      <td>2015-10-01</td>\n",
       "      <td>13:30:00</td>\n",
       "      <td>14:30:00</td>\n",
       "      <td>50</td>\n",
       "      <td>0</td>\n",
       "      <td>M Th</td>\n",
       "      <td>8.0</td>\n",
       "      <td>8</td>\n",
       "      <td>37.0</td>\n",
       "      <td>NaN</td>\n",
       "      <td>NaN</td>\n",
       "    </tr>\n",
       "    <tr>\n",
       "      <th>2</th>\n",
       "      <td>251.2.1801</td>\n",
       "      <td>Arthritis Exercise Program</td>\n",
       "      <td>Fall 2015</td>\n",
       "      <td>Closed</td>\n",
       "      <td>Active Adults (50+) Classes</td>\n",
       "      <td>Almaden Community Center</td>\n",
       "      <td>9</td>\n",
       "      <td>2015-10-05</td>\n",
       "      <td>2015-11-05</td>\n",
       "      <td>13:30:00</td>\n",
       "      <td>14:30:00</td>\n",
       "      <td>50</td>\n",
       "      <td>0</td>\n",
       "      <td>M Th</td>\n",
       "      <td>9.0</td>\n",
       "      <td>9</td>\n",
       "      <td>37.0</td>\n",
       "      <td>NaN</td>\n",
       "      <td>NaN</td>\n",
       "    </tr>\n",
       "    <tr>\n",
       "      <th>3</th>\n",
       "      <td>251.2.1802</td>\n",
       "      <td>Arthritis Exercise Program</td>\n",
       "      <td>Fall 2015</td>\n",
       "      <td>Closed</td>\n",
       "      <td>Active Adults (50+) Classes</td>\n",
       "      <td>Almaden Community Center</td>\n",
       "      <td>7</td>\n",
       "      <td>2015-11-09</td>\n",
       "      <td>2015-12-07</td>\n",
       "      <td>13:30:00</td>\n",
       "      <td>14:30:00</td>\n",
       "      <td>50</td>\n",
       "      <td>0</td>\n",
       "      <td>M Th</td>\n",
       "      <td>8.0</td>\n",
       "      <td>8</td>\n",
       "      <td>37.0</td>\n",
       "      <td>NaN</td>\n",
       "      <td>NaN</td>\n",
       "    </tr>\n",
       "    <tr>\n",
       "      <th>4</th>\n",
       "      <td>251.2.1814</td>\n",
       "      <td>Bridge Intermediate Class</td>\n",
       "      <td>Fall 2015</td>\n",
       "      <td>Closed</td>\n",
       "      <td>Active Adults (50+) Classes</td>\n",
       "      <td>Almaden Community Center</td>\n",
       "      <td>17</td>\n",
       "      <td>2015-09-01</td>\n",
       "      <td>2015-10-20</td>\n",
       "      <td>13:00:00</td>\n",
       "      <td>15:00:00</td>\n",
       "      <td>50</td>\n",
       "      <td>0</td>\n",
       "      <td>Tu</td>\n",
       "      <td>16.0</td>\n",
       "      <td>8</td>\n",
       "      <td>36.0</td>\n",
       "      <td>NaN</td>\n",
       "      <td>NaN</td>\n",
       "    </tr>\n",
       "  </tbody>\n",
       "</table>\n",
       "</div>"
      ],
      "text/plain": [
       "  ActivityNumber                ActivityName SeasonName  Status  \\\n",
       "0     251.2.0707  Arthritis Exercise Program  Fall 2015  Closed   \n",
       "1     251.2.1800  Arthritis Exercise Program  Fall 2015  Closed   \n",
       "2     251.2.1801  Arthritis Exercise Program  Fall 2015  Closed   \n",
       "3     251.2.1802  Arthritis Exercise Program  Fall 2015  Closed   \n",
       "4     251.2.1814   Bridge Intermediate Class  Fall 2015  Closed   \n",
       "\n",
       "                  CategoryName          Community Center  NumberEnrolled  \\\n",
       "0  Active Adults (50+) Classes  Almaden Community Center               7   \n",
       "1  Active Adults (50+) Classes  Almaden Community Center              13   \n",
       "2  Active Adults (50+) Classes  Almaden Community Center               9   \n",
       "3  Active Adults (50+) Classes  Almaden Community Center               7   \n",
       "4  Active Adults (50+) Classes  Almaden Community Center              17   \n",
       "\n",
       "  BeginningDate EndingDate StartingTime EndingTime  Minimum Age  Maximum Age  \\\n",
       "0    2015-08-06 2015-08-31     13:30:00   14:30:00           50            0   \n",
       "1    2015-09-03 2015-10-01     13:30:00   14:30:00           50            0   \n",
       "2    2015-10-05 2015-11-05     13:30:00   14:30:00           50            0   \n",
       "3    2015-11-09 2015-12-07     13:30:00   14:30:00           50            0   \n",
       "4    2015-09-01 2015-10-20     13:00:00   15:00:00           50            0   \n",
       "\n",
       "  WeekDays  NumberOfHours  NumberOfDates   Fee  Fees Day(s)  \n",
       "0     M Th            8.0              8  37.0   NaN    NaN  \n",
       "1     M Th            8.0              8  37.0   NaN    NaN  \n",
       "2     M Th            9.0              9  37.0   NaN    NaN  \n",
       "3     M Th            8.0              8  37.0   NaN    NaN  \n",
       "4       Tu           16.0              8  36.0   NaN    NaN  "
      ]
     },
     "execution_count": 206,
     "metadata": {},
     "output_type": "execute_result"
    }
   ],
   "source": [
    "# Explore data\n",
    "df.head()"
   ]
  },
  {
   "cell_type": "code",
   "execution_count": 207,
   "metadata": {},
   "outputs": [
    {
     "data": {
      "text/plain": [
       "(11174, 19)"
      ]
     },
     "execution_count": 207,
     "metadata": {},
     "output_type": "execute_result"
    }
   ],
   "source": [
    "# Over 11,000 observations and 19 features.\n",
    "df.shape"
   ]
  },
  {
   "cell_type": "code",
   "execution_count": 208,
   "metadata": {},
   "outputs": [
    {
     "data": {
      "text/plain": [
       "ActivityNumber         0\n",
       "ActivityName           0\n",
       "SeasonName             0\n",
       "Status                 0\n",
       "CategoryName           0\n",
       "Community Center       0\n",
       "NumberEnrolled         0\n",
       "BeginningDate          0\n",
       "EndingDate             0\n",
       "StartingTime           0\n",
       "EndingTime             0\n",
       "Minimum Age            0\n",
       "Maximum Age            0\n",
       "WeekDays            4043\n",
       "NumberOfHours          0\n",
       "NumberOfDates          0\n",
       "Fee                 2843\n",
       "Fees                8331\n",
       "Day(s)              7131\n",
       "dtype: int64"
      ]
     },
     "execution_count": 208,
     "metadata": {},
     "output_type": "execute_result"
    }
   ],
   "source": [
    "# A few of the features are duplicates so we'll have to consolidate and remove any remaining missing values. \n",
    "df.isnull().sum()"
   ]
  },
  {
   "cell_type": "code",
   "execution_count": 209,
   "metadata": {},
   "outputs": [
    {
     "data": {
      "text/plain": [
       "array(['M Th', 'Tu', 'Tu Th', 'F', 'M', 'W', 'Th', 'M W F', 'W F',\n",
       "       'W Th F', 'Tu F', 'Sa', 'M W', 'M Tu W Th F', 'M Tu W',\n",
       "       'Tu W Th F', 'Tu W Th', 'Su', 'M Th Sa', 'Th F', 'M Tu W Th',\n",
       "       'Every day', 'Th F Sa', 'M W Th F', 'Su F Sa', 'F Sa', 'Th Sa',\n",
       "       'Tu Sa', 'M Tu', 'M F', 'Tu W', 'M Th F', nan], dtype=object)"
      ]
     },
     "execution_count": 209,
     "metadata": {},
     "output_type": "execute_result"
    }
   ],
   "source": [
    "# WeekDays and Day(s) can be combined.\n",
    "df.WeekDays.unique()"
   ]
  },
  {
   "cell_type": "code",
   "execution_count": 210,
   "metadata": {},
   "outputs": [
    {
     "data": {
      "text/plain": [
       "array([nan, 'F', 'W F', 'Tu', 'Tu Th', 'M', 'Sa', 'Th', 'W', 'M W F',\n",
       "       'M Th', 'Tu W', 'Th F', 'M W', 'Tu F', 'M Tu W Th F', 'Tu W Th',\n",
       "       'Tu W Th F', 'M Tu Th F', 'M Tu W Th', 'M Th Sa', 'Su',\n",
       "       'Every day', 'M Tu W F', 'M W Th F', 'W Th F'], dtype=object)"
      ]
     },
     "execution_count": 210,
     "metadata": {},
     "output_type": "execute_result"
    }
   ],
   "source": [
    "df['Day(s)'].unique()"
   ]
  },
  {
   "cell_type": "code",
   "execution_count": 211,
   "metadata": {},
   "outputs": [],
   "source": [
    "df['WeekDays'] = df['WeekDays'].fillna(df['Day(s)'])"
   ]
  },
  {
   "cell_type": "code",
   "execution_count": 212,
   "metadata": {},
   "outputs": [],
   "source": [
    "# So can Fee and Fees.\n",
    "df['Fee'] = df['Fee'].fillna(df['Fees'])"
   ]
  },
  {
   "cell_type": "code",
   "execution_count": 213,
   "metadata": {},
   "outputs": [
    {
     "data": {
      "text/plain": [
       "ActivityNumber         0\n",
       "ActivityName           0\n",
       "SeasonName             0\n",
       "Status                 0\n",
       "CategoryName           0\n",
       "Community Center       0\n",
       "NumberEnrolled         0\n",
       "BeginningDate          0\n",
       "EndingDate             0\n",
       "StartingTime           0\n",
       "EndingTime             0\n",
       "Minimum Age            0\n",
       "Maximum Age            0\n",
       "WeekDays               0\n",
       "NumberOfHours          0\n",
       "NumberOfDates          0\n",
       "Fee                    0\n",
       "Fees                8331\n",
       "Day(s)              7131\n",
       "dtype: int64"
      ]
     },
     "execution_count": 213,
     "metadata": {},
     "output_type": "execute_result"
    }
   ],
   "source": [
    "# The only missing values are in features we consolidated so those can be removed.\n",
    "df.isnull().sum()"
   ]
  },
  {
   "cell_type": "code",
   "execution_count": 214,
   "metadata": {},
   "outputs": [
    {
     "data": {
      "text/plain": [
       "0      NaN\n",
       "1      NaN\n",
       "2      NaN\n",
       "3      NaN\n",
       "4      NaN\n",
       "5      NaN\n",
       "6      NaN\n",
       "7      NaN\n",
       "8      NaN\n",
       "9      NaN\n",
       "10     NaN\n",
       "11     NaN\n",
       "12     NaN\n",
       "13     NaN\n",
       "14     NaN\n",
       "15     NaN\n",
       "16     NaN\n",
       "17     NaN\n",
       "18     NaN\n",
       "19     NaN\n",
       "20     NaN\n",
       "21     NaN\n",
       "22     NaN\n",
       "23     NaN\n",
       "24     NaN\n",
       "25     NaN\n",
       "26     NaN\n",
       "27     NaN\n",
       "28     NaN\n",
       "29     NaN\n",
       "        ..\n",
       "4013   NaN\n",
       "4014   NaN\n",
       "4015   NaN\n",
       "4016   NaN\n",
       "4017   NaN\n",
       "4018   NaN\n",
       "4019   NaN\n",
       "4020   NaN\n",
       "4021   NaN\n",
       "4022   NaN\n",
       "4023   NaN\n",
       "4024   NaN\n",
       "4025   NaN\n",
       "4026   NaN\n",
       "4027   NaN\n",
       "4028   NaN\n",
       "4029   NaN\n",
       "4030   NaN\n",
       "4031   NaN\n",
       "4032   NaN\n",
       "4033   NaN\n",
       "4034   NaN\n",
       "4035   NaN\n",
       "4036   NaN\n",
       "4037   NaN\n",
       "4038   NaN\n",
       "4039   NaN\n",
       "4040   NaN\n",
       "4041   NaN\n",
       "4042   NaN\n",
       "Name: Fees, Length: 11174, dtype: float64"
      ]
     },
     "execution_count": 214,
     "metadata": {},
     "output_type": "execute_result"
    }
   ],
   "source": [
    "df.pop('Fees')"
   ]
  },
  {
   "cell_type": "code",
   "execution_count": 215,
   "metadata": {},
   "outputs": [
    {
     "data": {
      "text/plain": [
       "0       NaN\n",
       "1       NaN\n",
       "2       NaN\n",
       "3       NaN\n",
       "4       NaN\n",
       "5       NaN\n",
       "6       NaN\n",
       "7       NaN\n",
       "8       NaN\n",
       "9       NaN\n",
       "10      NaN\n",
       "11      NaN\n",
       "12      NaN\n",
       "13      NaN\n",
       "14      NaN\n",
       "15      NaN\n",
       "16      NaN\n",
       "17      NaN\n",
       "18      NaN\n",
       "19      NaN\n",
       "20      NaN\n",
       "21      NaN\n",
       "22      NaN\n",
       "23      NaN\n",
       "24      NaN\n",
       "25      NaN\n",
       "26      NaN\n",
       "27      NaN\n",
       "28      NaN\n",
       "29      NaN\n",
       "       ... \n",
       "4013      W\n",
       "4014     Sa\n",
       "4015     Tu\n",
       "4016      W\n",
       "4017      W\n",
       "4018     Tu\n",
       "4019      W\n",
       "4020      W\n",
       "4021     Sa\n",
       "4022     Sa\n",
       "4023     Sa\n",
       "4024     Sa\n",
       "4025      M\n",
       "4026      M\n",
       "4027     Sa\n",
       "4028     Th\n",
       "4029      M\n",
       "4030      M\n",
       "4031     Sa\n",
       "4032     Th\n",
       "4033     Th\n",
       "4034     Th\n",
       "4035     Th\n",
       "4036      M\n",
       "4037     Sa\n",
       "4038     Th\n",
       "4039     Th\n",
       "4040      M\n",
       "4041     Th\n",
       "4042     Sa\n",
       "Name: Day(s), Length: 11174, dtype: object"
      ]
     },
     "execution_count": 215,
     "metadata": {},
     "output_type": "execute_result"
    }
   ],
   "source": [
    "df.pop('Day(s)')"
   ]
  },
  {
   "cell_type": "code",
   "execution_count": 216,
   "metadata": {},
   "outputs": [
    {
     "data": {
      "text/plain": [
       "ActivityNumber      0\n",
       "ActivityName        0\n",
       "SeasonName          0\n",
       "Status              0\n",
       "CategoryName        0\n",
       "Community Center    0\n",
       "NumberEnrolled      0\n",
       "BeginningDate       0\n",
       "EndingDate          0\n",
       "StartingTime        0\n",
       "EndingTime          0\n",
       "Minimum Age         0\n",
       "Maximum Age         0\n",
       "WeekDays            0\n",
       "NumberOfHours       0\n",
       "NumberOfDates       0\n",
       "Fee                 0\n",
       "dtype: int64"
      ]
     },
     "execution_count": 216,
     "metadata": {},
     "output_type": "execute_result"
    }
   ],
   "source": [
    "# No null observations left\n",
    "df.isnull().sum()"
   ]
  },
  {
   "cell_type": "code",
   "execution_count": 217,
   "metadata": {},
   "outputs": [],
   "source": [
    "# Create a feature for year.\n",
    "year = df[\"SeasonName\"].str.split(\" \", n = 1, expand = True)"
   ]
  },
  {
   "cell_type": "code",
   "execution_count": 218,
   "metadata": {},
   "outputs": [
    {
     "data": {
      "text/html": [
       "<div>\n",
       "<style scoped>\n",
       "    .dataframe tbody tr th:only-of-type {\n",
       "        vertical-align: middle;\n",
       "    }\n",
       "\n",
       "    .dataframe tbody tr th {\n",
       "        vertical-align: top;\n",
       "    }\n",
       "\n",
       "    .dataframe thead th {\n",
       "        text-align: right;\n",
       "    }\n",
       "</style>\n",
       "<table border=\"1\" class=\"dataframe\">\n",
       "  <thead>\n",
       "    <tr style=\"text-align: right;\">\n",
       "      <th></th>\n",
       "      <th>0</th>\n",
       "      <th>1</th>\n",
       "    </tr>\n",
       "  </thead>\n",
       "  <tbody>\n",
       "    <tr>\n",
       "      <th>0</th>\n",
       "      <td>Fall</td>\n",
       "      <td>2015</td>\n",
       "    </tr>\n",
       "    <tr>\n",
       "      <th>1</th>\n",
       "      <td>Fall</td>\n",
       "      <td>2015</td>\n",
       "    </tr>\n",
       "    <tr>\n",
       "      <th>2</th>\n",
       "      <td>Fall</td>\n",
       "      <td>2015</td>\n",
       "    </tr>\n",
       "    <tr>\n",
       "      <th>3</th>\n",
       "      <td>Fall</td>\n",
       "      <td>2015</td>\n",
       "    </tr>\n",
       "    <tr>\n",
       "      <th>4</th>\n",
       "      <td>Fall</td>\n",
       "      <td>2015</td>\n",
       "    </tr>\n",
       "  </tbody>\n",
       "</table>\n",
       "</div>"
      ],
      "text/plain": [
       "      0     1\n",
       "0  Fall  2015\n",
       "1  Fall  2015\n",
       "2  Fall  2015\n",
       "3  Fall  2015\n",
       "4  Fall  2015"
      ]
     },
     "execution_count": 218,
     "metadata": {},
     "output_type": "execute_result"
    }
   ],
   "source": [
    "year.head()"
   ]
  },
  {
   "cell_type": "code",
   "execution_count": 219,
   "metadata": {},
   "outputs": [],
   "source": [
    "df[\"SeasonName\"] = year[0]\n",
    "df[\"Year\"] = year[1]"
   ]
  },
  {
   "cell_type": "code",
   "execution_count": 220,
   "metadata": {},
   "outputs": [
    {
     "data": {
      "text/html": [
       "<div>\n",
       "<style scoped>\n",
       "    .dataframe tbody tr th:only-of-type {\n",
       "        vertical-align: middle;\n",
       "    }\n",
       "\n",
       "    .dataframe tbody tr th {\n",
       "        vertical-align: top;\n",
       "    }\n",
       "\n",
       "    .dataframe thead th {\n",
       "        text-align: right;\n",
       "    }\n",
       "</style>\n",
       "<table border=\"1\" class=\"dataframe\">\n",
       "  <thead>\n",
       "    <tr style=\"text-align: right;\">\n",
       "      <th></th>\n",
       "      <th>ActivityNumber</th>\n",
       "      <th>ActivityName</th>\n",
       "      <th>SeasonName</th>\n",
       "      <th>Status</th>\n",
       "      <th>CategoryName</th>\n",
       "      <th>Community Center</th>\n",
       "      <th>NumberEnrolled</th>\n",
       "      <th>BeginningDate</th>\n",
       "      <th>EndingDate</th>\n",
       "      <th>StartingTime</th>\n",
       "      <th>EndingTime</th>\n",
       "      <th>Minimum Age</th>\n",
       "      <th>Maximum Age</th>\n",
       "      <th>WeekDays</th>\n",
       "      <th>NumberOfHours</th>\n",
       "      <th>NumberOfDates</th>\n",
       "      <th>Fee</th>\n",
       "      <th>Year</th>\n",
       "    </tr>\n",
       "  </thead>\n",
       "  <tbody>\n",
       "    <tr>\n",
       "      <th>0</th>\n",
       "      <td>251.2.0707</td>\n",
       "      <td>Arthritis Exercise Program</td>\n",
       "      <td>Fall</td>\n",
       "      <td>Closed</td>\n",
       "      <td>Active Adults (50+) Classes</td>\n",
       "      <td>Almaden Community Center</td>\n",
       "      <td>7</td>\n",
       "      <td>2015-08-06</td>\n",
       "      <td>2015-08-31</td>\n",
       "      <td>13:30:00</td>\n",
       "      <td>14:30:00</td>\n",
       "      <td>50</td>\n",
       "      <td>0</td>\n",
       "      <td>M Th</td>\n",
       "      <td>8.0</td>\n",
       "      <td>8</td>\n",
       "      <td>37.0</td>\n",
       "      <td>2015</td>\n",
       "    </tr>\n",
       "    <tr>\n",
       "      <th>1</th>\n",
       "      <td>251.2.1800</td>\n",
       "      <td>Arthritis Exercise Program</td>\n",
       "      <td>Fall</td>\n",
       "      <td>Closed</td>\n",
       "      <td>Active Adults (50+) Classes</td>\n",
       "      <td>Almaden Community Center</td>\n",
       "      <td>13</td>\n",
       "      <td>2015-09-03</td>\n",
       "      <td>2015-10-01</td>\n",
       "      <td>13:30:00</td>\n",
       "      <td>14:30:00</td>\n",
       "      <td>50</td>\n",
       "      <td>0</td>\n",
       "      <td>M Th</td>\n",
       "      <td>8.0</td>\n",
       "      <td>8</td>\n",
       "      <td>37.0</td>\n",
       "      <td>2015</td>\n",
       "    </tr>\n",
       "    <tr>\n",
       "      <th>2</th>\n",
       "      <td>251.2.1801</td>\n",
       "      <td>Arthritis Exercise Program</td>\n",
       "      <td>Fall</td>\n",
       "      <td>Closed</td>\n",
       "      <td>Active Adults (50+) Classes</td>\n",
       "      <td>Almaden Community Center</td>\n",
       "      <td>9</td>\n",
       "      <td>2015-10-05</td>\n",
       "      <td>2015-11-05</td>\n",
       "      <td>13:30:00</td>\n",
       "      <td>14:30:00</td>\n",
       "      <td>50</td>\n",
       "      <td>0</td>\n",
       "      <td>M Th</td>\n",
       "      <td>9.0</td>\n",
       "      <td>9</td>\n",
       "      <td>37.0</td>\n",
       "      <td>2015</td>\n",
       "    </tr>\n",
       "    <tr>\n",
       "      <th>3</th>\n",
       "      <td>251.2.1802</td>\n",
       "      <td>Arthritis Exercise Program</td>\n",
       "      <td>Fall</td>\n",
       "      <td>Closed</td>\n",
       "      <td>Active Adults (50+) Classes</td>\n",
       "      <td>Almaden Community Center</td>\n",
       "      <td>7</td>\n",
       "      <td>2015-11-09</td>\n",
       "      <td>2015-12-07</td>\n",
       "      <td>13:30:00</td>\n",
       "      <td>14:30:00</td>\n",
       "      <td>50</td>\n",
       "      <td>0</td>\n",
       "      <td>M Th</td>\n",
       "      <td>8.0</td>\n",
       "      <td>8</td>\n",
       "      <td>37.0</td>\n",
       "      <td>2015</td>\n",
       "    </tr>\n",
       "    <tr>\n",
       "      <th>4</th>\n",
       "      <td>251.2.1814</td>\n",
       "      <td>Bridge Intermediate Class</td>\n",
       "      <td>Fall</td>\n",
       "      <td>Closed</td>\n",
       "      <td>Active Adults (50+) Classes</td>\n",
       "      <td>Almaden Community Center</td>\n",
       "      <td>17</td>\n",
       "      <td>2015-09-01</td>\n",
       "      <td>2015-10-20</td>\n",
       "      <td>13:00:00</td>\n",
       "      <td>15:00:00</td>\n",
       "      <td>50</td>\n",
       "      <td>0</td>\n",
       "      <td>Tu</td>\n",
       "      <td>16.0</td>\n",
       "      <td>8</td>\n",
       "      <td>36.0</td>\n",
       "      <td>2015</td>\n",
       "    </tr>\n",
       "  </tbody>\n",
       "</table>\n",
       "</div>"
      ],
      "text/plain": [
       "  ActivityNumber                ActivityName SeasonName  Status  \\\n",
       "0     251.2.0707  Arthritis Exercise Program       Fall  Closed   \n",
       "1     251.2.1800  Arthritis Exercise Program       Fall  Closed   \n",
       "2     251.2.1801  Arthritis Exercise Program       Fall  Closed   \n",
       "3     251.2.1802  Arthritis Exercise Program       Fall  Closed   \n",
       "4     251.2.1814   Bridge Intermediate Class       Fall  Closed   \n",
       "\n",
       "                  CategoryName          Community Center  NumberEnrolled  \\\n",
       "0  Active Adults (50+) Classes  Almaden Community Center               7   \n",
       "1  Active Adults (50+) Classes  Almaden Community Center              13   \n",
       "2  Active Adults (50+) Classes  Almaden Community Center               9   \n",
       "3  Active Adults (50+) Classes  Almaden Community Center               7   \n",
       "4  Active Adults (50+) Classes  Almaden Community Center              17   \n",
       "\n",
       "  BeginningDate EndingDate StartingTime EndingTime  Minimum Age  Maximum Age  \\\n",
       "0    2015-08-06 2015-08-31     13:30:00   14:30:00           50            0   \n",
       "1    2015-09-03 2015-10-01     13:30:00   14:30:00           50            0   \n",
       "2    2015-10-05 2015-11-05     13:30:00   14:30:00           50            0   \n",
       "3    2015-11-09 2015-12-07     13:30:00   14:30:00           50            0   \n",
       "4    2015-09-01 2015-10-20     13:00:00   15:00:00           50            0   \n",
       "\n",
       "  WeekDays  NumberOfHours  NumberOfDates   Fee  Year  \n",
       "0     M Th            8.0              8  37.0  2015  \n",
       "1     M Th            8.0              8  37.0  2015  \n",
       "2     M Th            9.0              9  37.0  2015  \n",
       "3     M Th            8.0              8  37.0  2015  \n",
       "4       Tu           16.0              8  36.0  2015  "
      ]
     },
     "execution_count": 220,
     "metadata": {},
     "output_type": "execute_result"
    }
   ],
   "source": [
    "df.head()"
   ]
  },
  {
   "cell_type": "code",
   "execution_count": 221,
   "metadata": {},
   "outputs": [
    {
     "data": {
      "text/html": [
       "<div>\n",
       "<style scoped>\n",
       "    .dataframe tbody tr th:only-of-type {\n",
       "        vertical-align: middle;\n",
       "    }\n",
       "\n",
       "    .dataframe tbody tr th {\n",
       "        vertical-align: top;\n",
       "    }\n",
       "\n",
       "    .dataframe thead th {\n",
       "        text-align: right;\n",
       "    }\n",
       "</style>\n",
       "<table border=\"1\" class=\"dataframe\">\n",
       "  <thead>\n",
       "    <tr style=\"text-align: right;\">\n",
       "      <th></th>\n",
       "      <th>NumberEnrolled</th>\n",
       "      <th>Minimum Age</th>\n",
       "      <th>Maximum Age</th>\n",
       "      <th>NumberOfHours</th>\n",
       "      <th>NumberOfDates</th>\n",
       "      <th>Fee</th>\n",
       "    </tr>\n",
       "  </thead>\n",
       "  <tbody>\n",
       "    <tr>\n",
       "      <th>count</th>\n",
       "      <td>11174.000000</td>\n",
       "      <td>11174.000000</td>\n",
       "      <td>11174.000000</td>\n",
       "      <td>11174.000000</td>\n",
       "      <td>11174.000000</td>\n",
       "      <td>11174.000000</td>\n",
       "    </tr>\n",
       "    <tr>\n",
       "      <th>mean</th>\n",
       "      <td>10.558529</td>\n",
       "      <td>15.269733</td>\n",
       "      <td>14.001790</td>\n",
       "      <td>12.618832</td>\n",
       "      <td>6.468140</td>\n",
       "      <td>101.568597</td>\n",
       "    </tr>\n",
       "    <tr>\n",
       "      <th>std</th>\n",
       "      <td>13.224542</td>\n",
       "      <td>18.319550</td>\n",
       "      <td>24.437962</td>\n",
       "      <td>16.196442</td>\n",
       "      <td>5.124566</td>\n",
       "      <td>88.282225</td>\n",
       "    </tr>\n",
       "    <tr>\n",
       "      <th>min</th>\n",
       "      <td>0.000000</td>\n",
       "      <td>0.000000</td>\n",
       "      <td>0.000000</td>\n",
       "      <td>0.000000</td>\n",
       "      <td>0.000000</td>\n",
       "      <td>0.000000</td>\n",
       "    </tr>\n",
       "    <tr>\n",
       "      <th>25%</th>\n",
       "      <td>1.000000</td>\n",
       "      <td>4.000000</td>\n",
       "      <td>3.000000</td>\n",
       "      <td>4.000000</td>\n",
       "      <td>4.000000</td>\n",
       "      <td>37.000000</td>\n",
       "    </tr>\n",
       "    <tr>\n",
       "      <th>50%</th>\n",
       "      <td>7.000000</td>\n",
       "      <td>6.000000</td>\n",
       "      <td>8.000000</td>\n",
       "      <td>6.750000</td>\n",
       "      <td>6.000000</td>\n",
       "      <td>90.000000</td>\n",
       "    </tr>\n",
       "    <tr>\n",
       "      <th>75%</th>\n",
       "      <td>14.000000</td>\n",
       "      <td>16.000000</td>\n",
       "      <td>12.000000</td>\n",
       "      <td>15.000000</td>\n",
       "      <td>8.000000</td>\n",
       "      <td>131.000000</td>\n",
       "    </tr>\n",
       "    <tr>\n",
       "      <th>max</th>\n",
       "      <td>165.000000</td>\n",
       "      <td>55.000000</td>\n",
       "      <td>100.000000</td>\n",
       "      <td>167.883000</td>\n",
       "      <td>60.000000</td>\n",
       "      <td>921.000000</td>\n",
       "    </tr>\n",
       "  </tbody>\n",
       "</table>\n",
       "</div>"
      ],
      "text/plain": [
       "       NumberEnrolled   Minimum Age   Maximum Age  NumberOfHours  \\\n",
       "count    11174.000000  11174.000000  11174.000000   11174.000000   \n",
       "mean        10.558529     15.269733     14.001790      12.618832   \n",
       "std         13.224542     18.319550     24.437962      16.196442   \n",
       "min          0.000000      0.000000      0.000000       0.000000   \n",
       "25%          1.000000      4.000000      3.000000       4.000000   \n",
       "50%          7.000000      6.000000      8.000000       6.750000   \n",
       "75%         14.000000     16.000000     12.000000      15.000000   \n",
       "max        165.000000     55.000000    100.000000     167.883000   \n",
       "\n",
       "       NumberOfDates           Fee  \n",
       "count   11174.000000  11174.000000  \n",
       "mean        6.468140    101.568597  \n",
       "std         5.124566     88.282225  \n",
       "min         0.000000      0.000000  \n",
       "25%         4.000000     37.000000  \n",
       "50%         6.000000     90.000000  \n",
       "75%         8.000000    131.000000  \n",
       "max        60.000000    921.000000  "
      ]
     },
     "execution_count": 221,
     "metadata": {},
     "output_type": "execute_result"
    }
   ],
   "source": [
    "df.describe()"
   ]
  },
  {
   "cell_type": "code",
   "execution_count": 222,
   "metadata": {},
   "outputs": [
    {
     "data": {
      "text/plain": [
       "(11174, 18)"
      ]
     },
     "execution_count": 222,
     "metadata": {},
     "output_type": "execute_result"
    }
   ],
   "source": [
    "df.shape"
   ]
  },
  {
   "cell_type": "code",
   "execution_count": 223,
   "metadata": {},
   "outputs": [
    {
     "data": {
      "text/plain": [
       "Index(['ActivityNumber', 'ActivityName', 'SeasonName', 'Status',\n",
       "       'CategoryName', 'Community Center', 'NumberEnrolled', 'BeginningDate',\n",
       "       'EndingDate', 'StartingTime', 'EndingTime', 'Minimum Age',\n",
       "       'Maximum Age', 'WeekDays', 'NumberOfHours', 'NumberOfDates', 'Fee',\n",
       "       'Year'],\n",
       "      dtype='object')"
      ]
     },
     "execution_count": 223,
     "metadata": {},
     "output_type": "execute_result"
    }
   ],
   "source": [
    "df.columns"
   ]
  },
  {
   "cell_type": "code",
   "execution_count": 224,
   "metadata": {},
   "outputs": [
    {
     "name": "stdout",
     "output_type": "stream",
     "text": [
      "<class 'pandas.core.frame.DataFrame'>\n",
      "Int64Index: 11174 entries, 0 to 4042\n",
      "Data columns (total 18 columns):\n",
      "ActivityNumber      11174 non-null object\n",
      "ActivityName        11174 non-null object\n",
      "SeasonName          11174 non-null object\n",
      "Status              11174 non-null object\n",
      "CategoryName        11174 non-null object\n",
      "Community Center    11174 non-null object\n",
      "NumberEnrolled      11174 non-null int64\n",
      "BeginningDate       11174 non-null datetime64[ns]\n",
      "EndingDate          11174 non-null datetime64[ns]\n",
      "StartingTime        11174 non-null object\n",
      "EndingTime          11174 non-null object\n",
      "Minimum Age         11174 non-null int64\n",
      "Maximum Age         11174 non-null int64\n",
      "WeekDays            11174 non-null object\n",
      "NumberOfHours       11174 non-null float64\n",
      "NumberOfDates       11174 non-null int64\n",
      "Fee                 11174 non-null float64\n",
      "Year                11174 non-null object\n",
      "dtypes: datetime64[ns](2), float64(2), int64(4), object(10)\n",
      "memory usage: 1.6+ MB\n"
     ]
    }
   ],
   "source": [
    "df.info()"
   ]
  },
  {
   "cell_type": "code",
   "execution_count": 225,
   "metadata": {},
   "outputs": [
    {
     "data": {
      "text/plain": [
       "<matplotlib.axes._subplots.AxesSubplot at 0x1a2167bf28>"
      ]
     },
     "execution_count": 225,
     "metadata": {},
     "output_type": "execute_result"
    },
    {
     "data": {
      "image/png": "[encoded data removed]",
      "text/plain": [
       "<Figure size 432x288 with 1 Axes>"
      ]
     },
     "metadata": {},
     "output_type": "display_data"
    }
   ],
   "source": [
    "# Checking out all the different categories of activies, Sports, Camps, and Senior programs have the most activities.\n",
    "style.use('fivethirtyeight')\n",
    "df['CategoryName'].value_counts().plot(kind='barh')"
   ]
  },
  {
   "cell_type": "code",
   "execution_count": 226,
   "metadata": {},
   "outputs": [
    {
     "data": {
      "text/plain": [
       "Camden Community Center                1364\n",
       "Almaden Community Center               1340\n",
       "Evergreen Community Center              967\n",
       "Willow Glen Community Center            814\n",
       "Southside Community Center              637\n",
       "Berryessa Community Center              576\n",
       "Emma Prusch Farm Park                   445\n",
       "Mayfair Community Center                427\n",
       "Cypress Community & Senior Center       418\n",
       "Seven Trees Community Center            405\n",
       "Almaden                                 400\n",
       "Roosevelt Community Center              393\n",
       "Camden                                  330\n",
       "Almaden                                 199\n",
       "Bascom Community Center                 180\n",
       "Happy Hollow Park & Zoo                 178\n",
       "Camden                                  163\n",
       "Evergreen                               153\n",
       "Evergreen                               145\n",
       "Willow Glen                             134\n",
       "Berryessa                               121\n",
       "Berryessa                               107\n",
       "Southside                               101\n",
       "Southside                               100\n",
       "Willow Glen                              95\n",
       "Almaden Lake Park                        87\n",
       "Cypress                                  86\n",
       "Roosevelt                                74\n",
       "Emma Prusch                              71\n",
       "Seven Trees                              67\n",
       "Cypress                                  66\n",
       "Seven Trees                              63\n",
       "Bascom                                   61\n",
       "Mayfair                                  50\n",
       "Mayfair                                  44\n",
       "Emma Prusch                              39\n",
       "Lake Cunningham Regional Skate Park      39\n",
       "Roosevelt                                35\n",
       "Happy Hollow                             32\n",
       "Alum Rock Community Center               28\n",
       "Happy Hollow                             28\n",
       "Almaden Lake                             27\n",
       "Bascom                                   22\n",
       "Cunningham Skate                         16\n",
       "Kirk Community Center                    14\n",
       "Calabazas Park                            7\n",
       "Alum Rock                                 6\n",
       "Therapeutic Services                      5\n",
       "Hank Lopez Community Center               5\n",
       "Almaden Lake                              4\n",
       "Cunningham Skate                          3\n",
       "Alviso Community Center                   2\n",
       "Gardner                                   1\n",
       "Name: Community Center, dtype: int64"
      ]
     },
     "execution_count": 226,
     "metadata": {},
     "output_type": "execute_result"
    }
   ],
   "source": [
    "# Activity locations are mostly at community centers, spacing is causing some duplication we'll remove that next. \n",
    "df['Community Center'].value_counts()"
   ]
  },
  {
   "cell_type": "code",
   "execution_count": 227,
   "metadata": {},
   "outputs": [
    {
     "data": {
      "text/plain": [
       "Camden Community Center                1364\n",
       "Almaden Community Center               1340\n",
       "Evergreen Community Center              967\n",
       "Willow Glen Community Center            814\n",
       "Southside Community Center              637\n",
       "Almaden                                 599\n",
       "Berryessa Community Center              576\n",
       "Camden                                  493\n",
       "Emma Prusch Farm Park                   445\n",
       "Mayfair Community Center                427\n",
       "Cypress Community & Senior Center       418\n",
       "Seven Trees Community Center            405\n",
       "Roosevelt Community Center              393\n",
       "Evergreen                               298\n",
       "Willow Glen                             229\n",
       "Berryessa                               228\n",
       "Southside                               201\n",
       "Bascom Community Center                 180\n",
       "Happy Hollow Park & Zoo                 178\n",
       "Cypress                                 152\n",
       "Seven Trees                             130\n",
       "Emma Prusch                             110\n",
       "Roosevelt                               109\n",
       "Mayfair                                  94\n",
       "Almaden Lake Park                        87\n",
       "Bascom                                   83\n",
       "Happy Hollow                             60\n",
       "Lake Cunningham Regional Skate Park      39\n",
       "Almaden Lake                             31\n",
       "Alum Rock Community Center               28\n",
       "Cunningham Skate                         19\n",
       "Kirk Community Center                    14\n",
       "Calabazas Park                            7\n",
       "Alum Rock                                 6\n",
       "Therapeutic Services                      5\n",
       "Hank Lopez Community Center               5\n",
       "Alviso Community Center                   2\n",
       "Gardner                                   1\n",
       "Name: Community Center, dtype: int64"
      ]
     },
     "execution_count": 227,
     "metadata": {},
     "output_type": "execute_result"
    }
   ],
   "source": [
    "# Remove spacing at the beginning or end of each string to remove duplicates in our value counting.\n",
    "df['Community Center'] = df['Community Center'].str.strip()\n",
    "df['Community Center'].value_counts()"
   ]
  },
  {
   "cell_type": "code",
   "execution_count": 228,
   "metadata": {},
   "outputs": [
    {
     "data": {
      "text/plain": [
       "<matplotlib.axes._subplots.AxesSubplot at 0x1a22406eb8>"
      ]
     },
     "execution_count": 228,
     "metadata": {},
     "output_type": "execute_result"
    },
    {
     "data": {
      "image/png": "[encoded data removed]",
      "text/plain": [
       "<Figure size 432x288 with 1 Axes>"
      ]
     },
     "metadata": {},
     "output_type": "display_data"
    }
   ],
   "source": [
    "# Activities mostly take place in Summer and Fall. \n",
    "df['SeasonName'].value_counts().plot(kind='barh')"
   ]
  },
  {
   "cell_type": "code",
   "execution_count": 229,
   "metadata": {},
   "outputs": [
    {
     "data": {
      "text/plain": [
       "<matplotlib.axes._subplots.AxesSubplot at 0x1a223405c0>"
      ]
     },
     "execution_count": 229,
     "metadata": {},
     "output_type": "execute_result"
    },
    {
     "data": {
      "image/png": "[encoded data removed]",
      "text/plain": [
       "<Figure size 432x288 with 1 Axes>"
      ]
     },
     "metadata": {},
     "output_type": "display_data"
    }
   ],
   "source": [
    "# Age groups for activities seem to be for seniors and young children. \n",
    "df['Minimum Age'].value_counts().plot(kind='bar')"
   ]
  },
  {
   "cell_type": "code",
   "execution_count": 230,
   "metadata": {},
   "outputs": [
    {
     "data": {
      "text/plain": [
       "array(['Fall', 'Summer', 'Spring', 'Winter'], dtype=object)"
      ]
     },
     "execution_count": 230,
     "metadata": {},
     "output_type": "execute_result"
    }
   ],
   "source": [
    "# Activities are divided by the 4 seasons each year. \n",
    "df.SeasonName.unique()"
   ]
  },
  {
   "cell_type": "code",
   "execution_count": 231,
   "metadata": {},
   "outputs": [],
   "source": [
    "# Adding a revenue category to show how much money the city generates per activity\n",
    "df['Revenue'] = df['NumberEnrolled'] * df['Fee']"
   ]
  },
  {
   "cell_type": "code",
   "execution_count": 232,
   "metadata": {},
   "outputs": [
    {
     "data": {
      "text/html": [
       "<div>\n",
       "<style scoped>\n",
       "    .dataframe tbody tr th:only-of-type {\n",
       "        vertical-align: middle;\n",
       "    }\n",
       "\n",
       "    .dataframe tbody tr th {\n",
       "        vertical-align: top;\n",
       "    }\n",
       "\n",
       "    .dataframe thead th {\n",
       "        text-align: right;\n",
       "    }\n",
       "</style>\n",
       "<table border=\"1\" class=\"dataframe\">\n",
       "  <thead>\n",
       "    <tr style=\"text-align: right;\">\n",
       "      <th></th>\n",
       "      <th>ActivityNumber</th>\n",
       "      <th>ActivityName</th>\n",
       "      <th>SeasonName</th>\n",
       "      <th>Status</th>\n",
       "      <th>CategoryName</th>\n",
       "      <th>Community Center</th>\n",
       "      <th>NumberEnrolled</th>\n",
       "      <th>BeginningDate</th>\n",
       "      <th>EndingDate</th>\n",
       "      <th>StartingTime</th>\n",
       "      <th>EndingTime</th>\n",
       "      <th>Minimum Age</th>\n",
       "      <th>Maximum Age</th>\n",
       "      <th>WeekDays</th>\n",
       "      <th>NumberOfHours</th>\n",
       "      <th>NumberOfDates</th>\n",
       "      <th>Fee</th>\n",
       "      <th>Year</th>\n",
       "      <th>Revenue</th>\n",
       "    </tr>\n",
       "  </thead>\n",
       "  <tbody>\n",
       "    <tr>\n",
       "      <th>0</th>\n",
       "      <td>251.2.0707</td>\n",
       "      <td>Arthritis Exercise Program</td>\n",
       "      <td>Fall</td>\n",
       "      <td>Closed</td>\n",
       "      <td>Active Adults (50+) Classes</td>\n",
       "      <td>Almaden Community Center</td>\n",
       "      <td>7</td>\n",
       "      <td>2015-08-06</td>\n",
       "      <td>2015-08-31</td>\n",
       "      <td>13:30:00</td>\n",
       "      <td>14:30:00</td>\n",
       "      <td>50</td>\n",
       "      <td>0</td>\n",
       "      <td>M Th</td>\n",
       "      <td>8.0</td>\n",
       "      <td>8</td>\n",
       "      <td>37.0</td>\n",
       "      <td>2015</td>\n",
       "      <td>259.0</td>\n",
       "    </tr>\n",
       "    <tr>\n",
       "      <th>1</th>\n",
       "      <td>251.2.1800</td>\n",
       "      <td>Arthritis Exercise Program</td>\n",
       "      <td>Fall</td>\n",
       "      <td>Closed</td>\n",
       "      <td>Active Adults (50+) Classes</td>\n",
       "      <td>Almaden Community Center</td>\n",
       "      <td>13</td>\n",
       "      <td>2015-09-03</td>\n",
       "      <td>2015-10-01</td>\n",
       "      <td>13:30:00</td>\n",
       "      <td>14:30:00</td>\n",
       "      <td>50</td>\n",
       "      <td>0</td>\n",
       "      <td>M Th</td>\n",
       "      <td>8.0</td>\n",
       "      <td>8</td>\n",
       "      <td>37.0</td>\n",
       "      <td>2015</td>\n",
       "      <td>481.0</td>\n",
       "    </tr>\n",
       "    <tr>\n",
       "      <th>2</th>\n",
       "      <td>251.2.1801</td>\n",
       "      <td>Arthritis Exercise Program</td>\n",
       "      <td>Fall</td>\n",
       "      <td>Closed</td>\n",
       "      <td>Active Adults (50+) Classes</td>\n",
       "      <td>Almaden Community Center</td>\n",
       "      <td>9</td>\n",
       "      <td>2015-10-05</td>\n",
       "      <td>2015-11-05</td>\n",
       "      <td>13:30:00</td>\n",
       "      <td>14:30:00</td>\n",
       "      <td>50</td>\n",
       "      <td>0</td>\n",
       "      <td>M Th</td>\n",
       "      <td>9.0</td>\n",
       "      <td>9</td>\n",
       "      <td>37.0</td>\n",
       "      <td>2015</td>\n",
       "      <td>333.0</td>\n",
       "    </tr>\n",
       "    <tr>\n",
       "      <th>3</th>\n",
       "      <td>251.2.1802</td>\n",
       "      <td>Arthritis Exercise Program</td>\n",
       "      <td>Fall</td>\n",
       "      <td>Closed</td>\n",
       "      <td>Active Adults (50+) Classes</td>\n",
       "      <td>Almaden Community Center</td>\n",
       "      <td>7</td>\n",
       "      <td>2015-11-09</td>\n",
       "      <td>2015-12-07</td>\n",
       "      <td>13:30:00</td>\n",
       "      <td>14:30:00</td>\n",
       "      <td>50</td>\n",
       "      <td>0</td>\n",
       "      <td>M Th</td>\n",
       "      <td>8.0</td>\n",
       "      <td>8</td>\n",
       "      <td>37.0</td>\n",
       "      <td>2015</td>\n",
       "      <td>259.0</td>\n",
       "    </tr>\n",
       "    <tr>\n",
       "      <th>4</th>\n",
       "      <td>251.2.1814</td>\n",
       "      <td>Bridge Intermediate Class</td>\n",
       "      <td>Fall</td>\n",
       "      <td>Closed</td>\n",
       "      <td>Active Adults (50+) Classes</td>\n",
       "      <td>Almaden Community Center</td>\n",
       "      <td>17</td>\n",
       "      <td>2015-09-01</td>\n",
       "      <td>2015-10-20</td>\n",
       "      <td>13:00:00</td>\n",
       "      <td>15:00:00</td>\n",
       "      <td>50</td>\n",
       "      <td>0</td>\n",
       "      <td>Tu</td>\n",
       "      <td>16.0</td>\n",
       "      <td>8</td>\n",
       "      <td>36.0</td>\n",
       "      <td>2015</td>\n",
       "      <td>612.0</td>\n",
       "    </tr>\n",
       "  </tbody>\n",
       "</table>\n",
       "</div>"
      ],
      "text/plain": [
       "  ActivityNumber                ActivityName SeasonName  Status  \\\n",
       "0     251.2.0707  Arthritis Exercise Program       Fall  Closed   \n",
       "1     251.2.1800  Arthritis Exercise Program       Fall  Closed   \n",
       "2     251.2.1801  Arthritis Exercise Program       Fall  Closed   \n",
       "3     251.2.1802  Arthritis Exercise Program       Fall  Closed   \n",
       "4     251.2.1814   Bridge Intermediate Class       Fall  Closed   \n",
       "\n",
       "                  CategoryName          Community Center  NumberEnrolled  \\\n",
       "0  Active Adults (50+) Classes  Almaden Community Center               7   \n",
       "1  Active Adults (50+) Classes  Almaden Community Center              13   \n",
       "2  Active Adults (50+) Classes  Almaden Community Center               9   \n",
       "3  Active Adults (50+) Classes  Almaden Community Center               7   \n",
       "4  Active Adults (50+) Classes  Almaden Community Center              17   \n",
       "\n",
       "  BeginningDate EndingDate StartingTime EndingTime  Minimum Age  Maximum Age  \\\n",
       "0    2015-08-06 2015-08-31     13:30:00   14:30:00           50            0   \n",
       "1    2015-09-03 2015-10-01     13:30:00   14:30:00           50            0   \n",
       "2    2015-10-05 2015-11-05     13:30:00   14:30:00           50            0   \n",
       "3    2015-11-09 2015-12-07     13:30:00   14:30:00           50            0   \n",
       "4    2015-09-01 2015-10-20     13:00:00   15:00:00           50            0   \n",
       "\n",
       "  WeekDays  NumberOfHours  NumberOfDates   Fee  Year  Revenue  \n",
       "0     M Th            8.0              8  37.0  2015    259.0  \n",
       "1     M Th            8.0              8  37.0  2015    481.0  \n",
       "2     M Th            9.0              9  37.0  2015    333.0  \n",
       "3     M Th            8.0              8  37.0  2015    259.0  \n",
       "4       Tu           16.0              8  36.0  2015    612.0  "
      ]
     },
     "execution_count": 232,
     "metadata": {},
     "output_type": "execute_result"
    }
   ],
   "source": [
    "df.head()"
   ]
  },
  {
   "cell_type": "markdown",
   "metadata": {},
   "source": [
    "# Data analysis of activities with low attendance"
   ]
  },
  {
   "cell_type": "code",
   "execution_count": 233,
   "metadata": {},
   "outputs": [],
   "source": [
    "# Activities with 1 or less enrolled will be considered \"low attendance\"."
   ]
  },
  {
   "cell_type": "code",
   "execution_count": 234,
   "metadata": {},
   "outputs": [
    {
     "data": {
      "text/html": [
       "<div>\n",
       "<style scoped>\n",
       "    .dataframe tbody tr th:only-of-type {\n",
       "        vertical-align: middle;\n",
       "    }\n",
       "\n",
       "    .dataframe tbody tr th {\n",
       "        vertical-align: top;\n",
       "    }\n",
       "\n",
       "    .dataframe thead th {\n",
       "        text-align: right;\n",
       "    }\n",
       "</style>\n",
       "<table border=\"1\" class=\"dataframe\">\n",
       "  <thead>\n",
       "    <tr style=\"text-align: right;\">\n",
       "      <th></th>\n",
       "      <th>NumberEnrolled</th>\n",
       "      <th>Minimum Age</th>\n",
       "      <th>Maximum Age</th>\n",
       "      <th>NumberOfHours</th>\n",
       "      <th>NumberOfDates</th>\n",
       "      <th>Fee</th>\n",
       "      <th>Revenue</th>\n",
       "    </tr>\n",
       "  </thead>\n",
       "  <tbody>\n",
       "    <tr>\n",
       "      <th>NumberEnrolled</th>\n",
       "      <td>1.000000</td>\n",
       "      <td>0.167101</td>\n",
       "      <td>-0.015400</td>\n",
       "      <td>0.373995</td>\n",
       "      <td>0.264073</td>\n",
       "      <td>0.008172</td>\n",
       "      <td>0.730469</td>\n",
       "    </tr>\n",
       "    <tr>\n",
       "      <th>Minimum Age</th>\n",
       "      <td>0.167101</td>\n",
       "      <td>1.000000</td>\n",
       "      <td>0.164224</td>\n",
       "      <td>0.141772</td>\n",
       "      <td>0.237863</td>\n",
       "      <td>-0.420244</td>\n",
       "      <td>-0.178008</td>\n",
       "    </tr>\n",
       "    <tr>\n",
       "      <th>Maximum Age</th>\n",
       "      <td>-0.015400</td>\n",
       "      <td>0.164224</td>\n",
       "      <td>1.000000</td>\n",
       "      <td>0.048281</td>\n",
       "      <td>0.024581</td>\n",
       "      <td>-0.103678</td>\n",
       "      <td>-0.068089</td>\n",
       "    </tr>\n",
       "    <tr>\n",
       "      <th>NumberOfHours</th>\n",
       "      <td>0.373995</td>\n",
       "      <td>0.141772</td>\n",
       "      <td>0.048281</td>\n",
       "      <td>1.000000</td>\n",
       "      <td>0.618723</td>\n",
       "      <td>0.356604</td>\n",
       "      <td>0.524314</td>\n",
       "    </tr>\n",
       "    <tr>\n",
       "      <th>NumberOfDates</th>\n",
       "      <td>0.264073</td>\n",
       "      <td>0.237863</td>\n",
       "      <td>0.024581</td>\n",
       "      <td>0.618723</td>\n",
       "      <td>1.000000</td>\n",
       "      <td>0.155666</td>\n",
       "      <td>0.198311</td>\n",
       "    </tr>\n",
       "    <tr>\n",
       "      <th>Fee</th>\n",
       "      <td>0.008172</td>\n",
       "      <td>-0.420244</td>\n",
       "      <td>-0.103678</td>\n",
       "      <td>0.356604</td>\n",
       "      <td>0.155666</td>\n",
       "      <td>1.000000</td>\n",
       "      <td>0.448808</td>\n",
       "    </tr>\n",
       "    <tr>\n",
       "      <th>Revenue</th>\n",
       "      <td>0.730469</td>\n",
       "      <td>-0.178008</td>\n",
       "      <td>-0.068089</td>\n",
       "      <td>0.524314</td>\n",
       "      <td>0.198311</td>\n",
       "      <td>0.448808</td>\n",
       "      <td>1.000000</td>\n",
       "    </tr>\n",
       "  </tbody>\n",
       "</table>\n",
       "</div>"
      ],
      "text/plain": [
       "                NumberEnrolled  Minimum Age  Maximum Age  NumberOfHours  \\\n",
       "NumberEnrolled        1.000000     0.167101    -0.015400       0.373995   \n",
       "Minimum Age           0.167101     1.000000     0.164224       0.141772   \n",
       "Maximum Age          -0.015400     0.164224     1.000000       0.048281   \n",
       "NumberOfHours         0.373995     0.141772     0.048281       1.000000   \n",
       "NumberOfDates         0.264073     0.237863     0.024581       0.618723   \n",
       "Fee                   0.008172    -0.420244    -0.103678       0.356604   \n",
       "Revenue               0.730469    -0.178008    -0.068089       0.524314   \n",
       "\n",
       "                NumberOfDates       Fee   Revenue  \n",
       "NumberEnrolled       0.264073  0.008172  0.730469  \n",
       "Minimum Age          0.237863 -0.420244 -0.178008  \n",
       "Maximum Age          0.024581 -0.103678 -0.068089  \n",
       "NumberOfHours        0.618723  0.356604  0.524314  \n",
       "NumberOfDates        1.000000  0.155666  0.198311  \n",
       "Fee                  0.155666  1.000000  0.448808  \n",
       "Revenue              0.198311  0.448808  1.000000  "
      ]
     },
     "execution_count": 234,
     "metadata": {},
     "output_type": "execute_result"
    }
   ],
   "source": [
    "df.corr()"
   ]
  },
  {
   "cell_type": "code",
   "execution_count": 235,
   "metadata": {},
   "outputs": [],
   "source": [
    "# Copying the data frame for analysis\n",
    "df_copy = df.copy()"
   ]
  },
  {
   "cell_type": "code",
   "execution_count": 236,
   "metadata": {},
   "outputs": [
    {
     "data": {
      "text/html": [
       "<div>\n",
       "<style scoped>\n",
       "    .dataframe tbody tr th:only-of-type {\n",
       "        vertical-align: middle;\n",
       "    }\n",
       "\n",
       "    .dataframe tbody tr th {\n",
       "        vertical-align: top;\n",
       "    }\n",
       "\n",
       "    .dataframe thead th {\n",
       "        text-align: right;\n",
       "    }\n",
       "</style>\n",
       "<table border=\"1\" class=\"dataframe\">\n",
       "  <thead>\n",
       "    <tr style=\"text-align: right;\">\n",
       "      <th></th>\n",
       "      <th>ActivityNumber</th>\n",
       "      <th>ActivityName</th>\n",
       "      <th>SeasonName</th>\n",
       "      <th>Status</th>\n",
       "      <th>CategoryName</th>\n",
       "      <th>Community Center</th>\n",
       "      <th>NumberEnrolled</th>\n",
       "      <th>BeginningDate</th>\n",
       "      <th>EndingDate</th>\n",
       "      <th>StartingTime</th>\n",
       "      <th>EndingTime</th>\n",
       "      <th>Minimum Age</th>\n",
       "      <th>Maximum Age</th>\n",
       "      <th>WeekDays</th>\n",
       "      <th>NumberOfHours</th>\n",
       "      <th>NumberOfDates</th>\n",
       "      <th>Fee</th>\n",
       "      <th>Year</th>\n",
       "      <th>Revenue</th>\n",
       "    </tr>\n",
       "  </thead>\n",
       "  <tbody>\n",
       "    <tr>\n",
       "      <th>0</th>\n",
       "      <td>251.2.0707</td>\n",
       "      <td>Arthritis Exercise Program</td>\n",
       "      <td>Fall</td>\n",
       "      <td>Closed</td>\n",
       "      <td>Active Adults (50+) Classes</td>\n",
       "      <td>Almaden Community Center</td>\n",
       "      <td>7</td>\n",
       "      <td>2015-08-06</td>\n",
       "      <td>2015-08-31</td>\n",
       "      <td>13:30:00</td>\n",
       "      <td>14:30:00</td>\n",
       "      <td>50</td>\n",
       "      <td>0</td>\n",
       "      <td>M Th</td>\n",
       "      <td>8.0</td>\n",
       "      <td>8</td>\n",
       "      <td>37.0</td>\n",
       "      <td>2015</td>\n",
       "      <td>259.0</td>\n",
       "    </tr>\n",
       "    <tr>\n",
       "      <th>1</th>\n",
       "      <td>251.2.1800</td>\n",
       "      <td>Arthritis Exercise Program</td>\n",
       "      <td>Fall</td>\n",
       "      <td>Closed</td>\n",
       "      <td>Active Adults (50+) Classes</td>\n",
       "      <td>Almaden Community Center</td>\n",
       "      <td>13</td>\n",
       "      <td>2015-09-03</td>\n",
       "      <td>2015-10-01</td>\n",
       "      <td>13:30:00</td>\n",
       "      <td>14:30:00</td>\n",
       "      <td>50</td>\n",
       "      <td>0</td>\n",
       "      <td>M Th</td>\n",
       "      <td>8.0</td>\n",
       "      <td>8</td>\n",
       "      <td>37.0</td>\n",
       "      <td>2015</td>\n",
       "      <td>481.0</td>\n",
       "    </tr>\n",
       "    <tr>\n",
       "      <th>2</th>\n",
       "      <td>251.2.1801</td>\n",
       "      <td>Arthritis Exercise Program</td>\n",
       "      <td>Fall</td>\n",
       "      <td>Closed</td>\n",
       "      <td>Active Adults (50+) Classes</td>\n",
       "      <td>Almaden Community Center</td>\n",
       "      <td>9</td>\n",
       "      <td>2015-10-05</td>\n",
       "      <td>2015-11-05</td>\n",
       "      <td>13:30:00</td>\n",
       "      <td>14:30:00</td>\n",
       "      <td>50</td>\n",
       "      <td>0</td>\n",
       "      <td>M Th</td>\n",
       "      <td>9.0</td>\n",
       "      <td>9</td>\n",
       "      <td>37.0</td>\n",
       "      <td>2015</td>\n",
       "      <td>333.0</td>\n",
       "    </tr>\n",
       "    <tr>\n",
       "      <th>3</th>\n",
       "      <td>251.2.1802</td>\n",
       "      <td>Arthritis Exercise Program</td>\n",
       "      <td>Fall</td>\n",
       "      <td>Closed</td>\n",
       "      <td>Active Adults (50+) Classes</td>\n",
       "      <td>Almaden Community Center</td>\n",
       "      <td>7</td>\n",
       "      <td>2015-11-09</td>\n",
       "      <td>2015-12-07</td>\n",
       "      <td>13:30:00</td>\n",
       "      <td>14:30:00</td>\n",
       "      <td>50</td>\n",
       "      <td>0</td>\n",
       "      <td>M Th</td>\n",
       "      <td>8.0</td>\n",
       "      <td>8</td>\n",
       "      <td>37.0</td>\n",
       "      <td>2015</td>\n",
       "      <td>259.0</td>\n",
       "    </tr>\n",
       "    <tr>\n",
       "      <th>4</th>\n",
       "      <td>251.2.1814</td>\n",
       "      <td>Bridge Intermediate Class</td>\n",
       "      <td>Fall</td>\n",
       "      <td>Closed</td>\n",
       "      <td>Active Adults (50+) Classes</td>\n",
       "      <td>Almaden Community Center</td>\n",
       "      <td>17</td>\n",
       "      <td>2015-09-01</td>\n",
       "      <td>2015-10-20</td>\n",
       "      <td>13:00:00</td>\n",
       "      <td>15:00:00</td>\n",
       "      <td>50</td>\n",
       "      <td>0</td>\n",
       "      <td>Tu</td>\n",
       "      <td>16.0</td>\n",
       "      <td>8</td>\n",
       "      <td>36.0</td>\n",
       "      <td>2015</td>\n",
       "      <td>612.0</td>\n",
       "    </tr>\n",
       "  </tbody>\n",
       "</table>\n",
       "</div>"
      ],
      "text/plain": [
       "  ActivityNumber                ActivityName SeasonName  Status  \\\n",
       "0     251.2.0707  Arthritis Exercise Program       Fall  Closed   \n",
       "1     251.2.1800  Arthritis Exercise Program       Fall  Closed   \n",
       "2     251.2.1801  Arthritis Exercise Program       Fall  Closed   \n",
       "3     251.2.1802  Arthritis Exercise Program       Fall  Closed   \n",
       "4     251.2.1814   Bridge Intermediate Class       Fall  Closed   \n",
       "\n",
       "                  CategoryName          Community Center  NumberEnrolled  \\\n",
       "0  Active Adults (50+) Classes  Almaden Community Center               7   \n",
       "1  Active Adults (50+) Classes  Almaden Community Center              13   \n",
       "2  Active Adults (50+) Classes  Almaden Community Center               9   \n",
       "3  Active Adults (50+) Classes  Almaden Community Center               7   \n",
       "4  Active Adults (50+) Classes  Almaden Community Center              17   \n",
       "\n",
       "  BeginningDate EndingDate StartingTime EndingTime  Minimum Age  Maximum Age  \\\n",
       "0    2015-08-06 2015-08-31     13:30:00   14:30:00           50            0   \n",
       "1    2015-09-03 2015-10-01     13:30:00   14:30:00           50            0   \n",
       "2    2015-10-05 2015-11-05     13:30:00   14:30:00           50            0   \n",
       "3    2015-11-09 2015-12-07     13:30:00   14:30:00           50            0   \n",
       "4    2015-09-01 2015-10-20     13:00:00   15:00:00           50            0   \n",
       "\n",
       "  WeekDays  NumberOfHours  NumberOfDates   Fee  Year  Revenue  \n",
       "0     M Th            8.0              8  37.0  2015    259.0  \n",
       "1     M Th            8.0              8  37.0  2015    481.0  \n",
       "2     M Th            9.0              9  37.0  2015    333.0  \n",
       "3     M Th            8.0              8  37.0  2015    259.0  \n",
       "4       Tu           16.0              8  36.0  2015    612.0  "
      ]
     },
     "execution_count": 236,
     "metadata": {},
     "output_type": "execute_result"
    }
   ],
   "source": [
    "df_copy.head()"
   ]
  },
  {
   "cell_type": "code",
   "execution_count": 237,
   "metadata": {},
   "outputs": [
    {
     "data": {
      "text/plain": [
       "(11174, 19)"
      ]
     },
     "execution_count": 237,
     "metadata": {},
     "output_type": "execute_result"
    }
   ],
   "source": [
    "df_copy.shape"
   ]
  },
  {
   "cell_type": "code",
   "execution_count": 238,
   "metadata": {},
   "outputs": [],
   "source": [
    "# Group each activity by avg enrollment and revenue.\n",
    "avg_enrolled = df_copy.groupby('CategoryName')['NumberEnrolled'].mean().sort_values(ascending=False)\n",
    "avg_revenue = df_copy.groupby('CategoryName')['Revenue'].mean().sort_values(ascending=False)"
   ]
  },
  {
   "cell_type": "code",
   "execution_count": 239,
   "metadata": {},
   "outputs": [],
   "source": [
    "X = avg_enrolled\n",
    "Y = avg_revenue"
   ]
  },
  {
   "cell_type": "code",
   "execution_count": 240,
   "metadata": {},
   "outputs": [
    {
     "data": {
      "text/plain": [
       "[<matplotlib.lines.Line2D at 0x1a220cd438>]"
      ]
     },
     "execution_count": 240,
     "metadata": {},
     "output_type": "execute_result"
    },
    {
     "data": {
      "image/png": "[encoded data removed]",
      "text/plain": [
       "<Figure size 432x288 with 1 Axes>"
      ]
     },
     "metadata": {},
     "output_type": "display_data"
    }
   ],
   "source": [
    "# Once enrollment gets around 10 the revenue jumps, more popular acitvities can probably charge more fees.\n",
    "plt.plot(X,Y)"
   ]
  },
  {
   "cell_type": "code",
   "execution_count": 241,
   "metadata": {},
   "outputs": [],
   "source": [
    "# Group by average enrollment per year to see if there are any meaningful differences between years. \n",
    "avg_yearly_enrollment = df_copy.groupby('Year')['NumberEnrolled'].mean()"
   ]
  },
  {
   "cell_type": "code",
   "execution_count": 242,
   "metadata": {},
   "outputs": [
    {
     "data": {
      "text/plain": [
       "([<matplotlib.axis.YTick at 0x1a22100ba8>,\n",
       "  <matplotlib.axis.YTick at 0x1a22100438>,\n",
       "  <matplotlib.axis.YTick at 0x1a2181ba58>,\n",
       "  <matplotlib.axis.YTick at 0x1a22115828>,\n",
       "  <matplotlib.axis.YTick at 0x1a22115cc0>,\n",
       "  <matplotlib.axis.YTick at 0x1a2211c208>],\n",
       " <a list of 6 Text yticklabel objects>)"
      ]
     },
     "execution_count": 242,
     "metadata": {},
     "output_type": "execute_result"
    },
    {
     "data": {
      "image/png": "[encoded data removed]",
      "text/plain": [
       "<Figure size 432x288 with 1 Axes>"
      ]
     },
     "metadata": {},
     "output_type": "display_data"
    }
   ],
   "source": [
    "# Average enrollment seems steady over three years between 10-11. \n",
    "age_plot = plt.plot(avg_yearly_enrollment)\n",
    "plt.xlabel(\"Year\")\n",
    "plt.ylabel(\"Average Activity Enrollment\")\n",
    "plt.yticks(range(8,14))"
   ]
  },
  {
   "cell_type": "code",
   "execution_count": 243,
   "metadata": {},
   "outputs": [],
   "source": [
    "# Setting the target for low attendance for activities with less than 1 person enrolled. \n",
    "low_attendance = df_copy['NumberEnrolled'] <= 1"
   ]
  },
  {
   "cell_type": "code",
   "execution_count": 244,
   "metadata": {},
   "outputs": [],
   "source": [
    "df_low = df_copy[low_attendance]"
   ]
  },
  {
   "cell_type": "code",
   "execution_count": 245,
   "metadata": {},
   "outputs": [
    {
     "data": {
      "text/plain": [
       "(2855, 19)"
      ]
     },
     "execution_count": 245,
     "metadata": {},
     "output_type": "execute_result"
    }
   ],
   "source": [
    "# About 1/4th of activities meet the low enrollment threshold.\n",
    "df_low.shape"
   ]
  },
  {
   "cell_type": "code",
   "execution_count": 246,
   "metadata": {},
   "outputs": [
    {
     "data": {
      "text/plain": [
       "(11174, 19)"
      ]
     },
     "execution_count": 246,
     "metadata": {},
     "output_type": "execute_result"
    }
   ],
   "source": [
    "df_copy.shape"
   ]
  },
  {
   "cell_type": "code",
   "execution_count": 247,
   "metadata": {},
   "outputs": [
    {
     "data": {
      "text/html": [
       "<div>\n",
       "<style scoped>\n",
       "    .dataframe tbody tr th:only-of-type {\n",
       "        vertical-align: middle;\n",
       "    }\n",
       "\n",
       "    .dataframe tbody tr th {\n",
       "        vertical-align: top;\n",
       "    }\n",
       "\n",
       "    .dataframe thead th {\n",
       "        text-align: right;\n",
       "    }\n",
       "</style>\n",
       "<table border=\"1\" class=\"dataframe\">\n",
       "  <thead>\n",
       "    <tr style=\"text-align: right;\">\n",
       "      <th></th>\n",
       "      <th>ActivityNumber</th>\n",
       "      <th>ActivityName</th>\n",
       "      <th>SeasonName</th>\n",
       "      <th>Status</th>\n",
       "      <th>CategoryName</th>\n",
       "      <th>Community Center</th>\n",
       "      <th>NumberEnrolled</th>\n",
       "      <th>BeginningDate</th>\n",
       "      <th>EndingDate</th>\n",
       "      <th>StartingTime</th>\n",
       "      <th>EndingTime</th>\n",
       "      <th>Minimum Age</th>\n",
       "      <th>Maximum Age</th>\n",
       "      <th>WeekDays</th>\n",
       "      <th>NumberOfHours</th>\n",
       "      <th>NumberOfDates</th>\n",
       "      <th>Fee</th>\n",
       "      <th>Year</th>\n",
       "      <th>Revenue</th>\n",
       "    </tr>\n",
       "  </thead>\n",
       "  <tbody>\n",
       "    <tr>\n",
       "      <th>7</th>\n",
       "      <td>251.2.1893</td>\n",
       "      <td>Dance Fit</td>\n",
       "      <td>Fall</td>\n",
       "      <td>Cancelled</td>\n",
       "      <td>Active Adults (50+) Classes</td>\n",
       "      <td>Almaden Community Center</td>\n",
       "      <td>0</td>\n",
       "      <td>2015-10-01</td>\n",
       "      <td>2015-11-03</td>\n",
       "      <td>08:00:00</td>\n",
       "      <td>09:00:00</td>\n",
       "      <td>50</td>\n",
       "      <td>0</td>\n",
       "      <td>Tu Th</td>\n",
       "      <td>0.0</td>\n",
       "      <td>0</td>\n",
       "      <td>51.0</td>\n",
       "      <td>2015</td>\n",
       "      <td>0.0</td>\n",
       "    </tr>\n",
       "    <tr>\n",
       "      <th>8</th>\n",
       "      <td>251.2.1894</td>\n",
       "      <td>Dance Fit</td>\n",
       "      <td>Fall</td>\n",
       "      <td>Cancelled</td>\n",
       "      <td>Active Adults (50+) Classes</td>\n",
       "      <td>Almaden Community Center</td>\n",
       "      <td>1</td>\n",
       "      <td>2015-11-05</td>\n",
       "      <td>2015-12-01</td>\n",
       "      <td>08:00:00</td>\n",
       "      <td>09:00:00</td>\n",
       "      <td>50</td>\n",
       "      <td>0</td>\n",
       "      <td>Tu Th</td>\n",
       "      <td>0.0</td>\n",
       "      <td>0</td>\n",
       "      <td>40.0</td>\n",
       "      <td>2015</td>\n",
       "      <td>40.0</td>\n",
       "    </tr>\n",
       "    <tr>\n",
       "      <th>12</th>\n",
       "      <td>251.2.1806</td>\n",
       "      <td>Enhance Fitness</td>\n",
       "      <td>Fall</td>\n",
       "      <td>Cancelled</td>\n",
       "      <td>Active Adults (50+) Classes</td>\n",
       "      <td>Almaden Community Center</td>\n",
       "      <td>0</td>\n",
       "      <td>2015-08-25</td>\n",
       "      <td>2015-09-01</td>\n",
       "      <td>09:00:00</td>\n",
       "      <td>10:00:00</td>\n",
       "      <td>55</td>\n",
       "      <td>0</td>\n",
       "      <td>Tu Th</td>\n",
       "      <td>3.0</td>\n",
       "      <td>3</td>\n",
       "      <td>35.0</td>\n",
       "      <td>2015</td>\n",
       "      <td>0.0</td>\n",
       "    </tr>\n",
       "    <tr>\n",
       "      <th>41</th>\n",
       "      <td>251.2.0615</td>\n",
       "      <td>Tai Chi for Strength and Balance</td>\n",
       "      <td>Fall</td>\n",
       "      <td>Cancelled</td>\n",
       "      <td>Active Adults (50+) Classes</td>\n",
       "      <td>Almaden Community Center</td>\n",
       "      <td>0</td>\n",
       "      <td>2015-10-06</td>\n",
       "      <td>2015-10-06</td>\n",
       "      <td>11:30:00</td>\n",
       "      <td>12:30:00</td>\n",
       "      <td>50</td>\n",
       "      <td>0</td>\n",
       "      <td>Tu</td>\n",
       "      <td>1.0</td>\n",
       "      <td>1</td>\n",
       "      <td>43.0</td>\n",
       "      <td>2015</td>\n",
       "      <td>0.0</td>\n",
       "    </tr>\n",
       "    <tr>\n",
       "      <th>46</th>\n",
       "      <td>213.2.1946</td>\n",
       "      <td>Hula - Beg</td>\n",
       "      <td>Fall</td>\n",
       "      <td>Cancelled</td>\n",
       "      <td>Active Adults (50+) Classes</td>\n",
       "      <td>Berryessa Community Center</td>\n",
       "      <td>0</td>\n",
       "      <td>2015-10-23</td>\n",
       "      <td>2015-12-04</td>\n",
       "      <td>09:00:00</td>\n",
       "      <td>10:30:00</td>\n",
       "      <td>50</td>\n",
       "      <td>99</td>\n",
       "      <td>F</td>\n",
       "      <td>9.0</td>\n",
       "      <td>6</td>\n",
       "      <td>13.0</td>\n",
       "      <td>2015</td>\n",
       "      <td>0.0</td>\n",
       "    </tr>\n",
       "  </tbody>\n",
       "</table>\n",
       "</div>"
      ],
      "text/plain": [
       "   ActivityNumber                      ActivityName SeasonName     Status  \\\n",
       "7      251.2.1893                         Dance Fit       Fall  Cancelled   \n",
       "8      251.2.1894                         Dance Fit       Fall  Cancelled   \n",
       "12     251.2.1806                   Enhance Fitness       Fall  Cancelled   \n",
       "41     251.2.0615  Tai Chi for Strength and Balance       Fall  Cancelled   \n",
       "46     213.2.1946                        Hula - Beg       Fall  Cancelled   \n",
       "\n",
       "                   CategoryName            Community Center  NumberEnrolled  \\\n",
       "7   Active Adults (50+) Classes    Almaden Community Center               0   \n",
       "8   Active Adults (50+) Classes    Almaden Community Center               1   \n",
       "12  Active Adults (50+) Classes    Almaden Community Center               0   \n",
       "41  Active Adults (50+) Classes    Almaden Community Center               0   \n",
       "46  Active Adults (50+) Classes  Berryessa Community Center               0   \n",
       "\n",
       "   BeginningDate EndingDate StartingTime EndingTime  Minimum Age  Maximum Age  \\\n",
       "7     2015-10-01 2015-11-03     08:00:00   09:00:00           50            0   \n",
       "8     2015-11-05 2015-12-01     08:00:00   09:00:00           50            0   \n",
       "12    2015-08-25 2015-09-01     09:00:00   10:00:00           55            0   \n",
       "41    2015-10-06 2015-10-06     11:30:00   12:30:00           50            0   \n",
       "46    2015-10-23 2015-12-04     09:00:00   10:30:00           50           99   \n",
       "\n",
       "   WeekDays  NumberOfHours  NumberOfDates   Fee  Year  Revenue  \n",
       "7     Tu Th            0.0              0  51.0  2015      0.0  \n",
       "8     Tu Th            0.0              0  40.0  2015     40.0  \n",
       "12    Tu Th            3.0              3  35.0  2015      0.0  \n",
       "41       Tu            1.0              1  43.0  2015      0.0  \n",
       "46        F            9.0              6  13.0  2015      0.0  "
      ]
     },
     "execution_count": 247,
     "metadata": {},
     "output_type": "execute_result"
    }
   ],
   "source": [
    "df_low.head()"
   ]
  },
  {
   "cell_type": "code",
   "execution_count": 248,
   "metadata": {},
   "outputs": [
    {
     "data": {
      "text/plain": [
       "Text(0.5,0,'Number of Low Attendance Classes')"
      ]
     },
     "execution_count": 248,
     "metadata": {},
     "output_type": "execute_result"
    },
    {
     "data": {
      "image/png": "[encoded data removed]",
      "text/plain": [
       "<Figure size 432x288 with 1 Axes>"
      ]
     },
     "metadata": {},
     "output_type": "display_data"
    }
   ],
   "source": [
    "# Seasons with low enrollment are also the seasons with the most activities. \n",
    "low_seasons = df_low['SeasonName'].value_counts().plot(kind='barh', title=\"Low Attendance by Season\")\n",
    "low_seasons.set_xlabel(\"Number of Low Attendance Classes\")"
   ]
  },
  {
   "cell_type": "code",
   "execution_count": 249,
   "metadata": {},
   "outputs": [
    {
     "data": {
      "text/plain": [
       "<matplotlib.axes._subplots.AxesSubplot at 0x1a220f4f98>"
      ]
     },
     "execution_count": 249,
     "metadata": {},
     "output_type": "execute_result"
    },
    {
     "data": {
      "image/png": "[encoded data removed]",
      "text/plain": [
       "<Figure size 432x288 with 1 Axes>"
      ]
     },
     "metadata": {},
     "output_type": "display_data"
    }
   ],
   "source": [
    "# Total activities for each season.\n",
    "df['SeasonName'].value_counts().plot(kind='barh')"
   ]
  },
  {
   "cell_type": "code",
   "execution_count": 250,
   "metadata": {},
   "outputs": [
    {
     "data": {
      "text/plain": [
       "Text(0.5,0,'Number of Low Attendance Classes')"
      ]
     },
     "execution_count": 250,
     "metadata": {},
     "output_type": "execute_result"
    },
    {
     "data": {
      "image/png": "[encoded data removed]",
      "text/plain": [
       "<Figure size 432x288 with 1 Axes>"
      ]
     },
     "metadata": {},
     "output_type": "display_data"
    }
   ],
   "source": [
    "# Activities that are offered the most, Camps and Sports, also have the highest number of low attendance. \n",
    "low_cat = df_low['CategoryName'].value_counts().plot(kind='barh', title=\"Low Attendance by Category\")\n",
    "low_cat.set_xlabel(\"Number of Low Attendance Classes\")"
   ]
  },
  {
   "cell_type": "code",
   "execution_count": 251,
   "metadata": {},
   "outputs": [
    {
     "data": {
      "text/plain": [
       "<matplotlib.axes._subplots.AxesSubplot at 0x1a22d07a58>"
      ]
     },
     "execution_count": 251,
     "metadata": {},
     "output_type": "execute_result"
    },
    {
     "data": {
      "image/png": "[encoded data removed]",
      "text/plain": [
       "<Figure size 432x288 with 1 Axes>"
      ]
     },
     "metadata": {},
     "output_type": "display_data"
    }
   ],
   "source": [
    "# Total activities for each category.\n",
    "df['CategoryName'].value_counts().plot(kind='barh',)"
   ]
  },
  {
   "cell_type": "code",
   "execution_count": 252,
   "metadata": {},
   "outputs": [
    {
     "data": {
      "text/plain": [
       "Cancelled    2255\n",
       "Closed        595\n",
       "cancelled       5\n",
       "Name: Status, dtype: int64"
      ]
     },
     "execution_count": 252,
     "metadata": {},
     "output_type": "execute_result"
    }
   ],
   "source": [
    "# Most activities with low attendance do get cancelled.\n",
    "df_low.Status.value_counts()"
   ]
  },
  {
   "cell_type": "code",
   "execution_count": 253,
   "metadata": {},
   "outputs": [
    {
     "data": {
      "text/plain": [
       "array([50, 55, 18,  7,  3,  6,  8, 13,  5,  1,  2,  4, 16,  0, 11, 14, 12,\n",
       "       15, 10,  9, 17, 21])"
      ]
     },
     "execution_count": 253,
     "metadata": {},
     "output_type": "execute_result"
    }
   ],
   "source": [
    "df_low['Minimum Age'].unique()"
   ]
  },
  {
   "cell_type": "code",
   "execution_count": 254,
   "metadata": {},
   "outputs": [],
   "source": [
    "# Looking at activity by age groups.\n",
    "Senior = df['Minimum Age'] >= 50\n",
    "Child = df['Minimum Age'] < 18\n",
    "Adult = df['Minimum Age'].between(17, 51, inclusive=True)"
   ]
  },
  {
   "cell_type": "code",
   "execution_count": 255,
   "metadata": {},
   "outputs": [],
   "source": [
    "# Adding age groups based on the minimum age for an activity.\n",
    "bins = [-1, 12, 17, 49, np.inf]\n",
    "names = ['Children', 'Teens', 'Adults', 'Seniors']\n",
    "\n",
    "df['AgeRange'] = pd.cut(df['Minimum Age'], bins, labels=names)"
   ]
  },
  {
   "cell_type": "code",
   "execution_count": 256,
   "metadata": {},
   "outputs": [
    {
     "data": {
      "text/plain": [
       "Children    8136\n",
       "Seniors     2364\n",
       "Teens        378\n",
       "Adults       296\n",
       "Name: AgeRange, dtype: int64"
      ]
     },
     "execution_count": 256,
     "metadata": {},
     "output_type": "execute_result"
    }
   ],
   "source": [
    "# Most activities are for Children and Seniors .\n",
    "df.AgeRange.value_counts()"
   ]
  },
  {
   "cell_type": "code",
   "execution_count": 257,
   "metadata": {},
   "outputs": [],
   "source": [
    "# Creating attendance feature based on enrollment\n",
    "bins = [-1, 1, 12, np.inf]\n",
    "names = ['low', 'normal', 'high']\n",
    "\n",
    "df['Enrollment'] = pd.cut(df['NumberEnrolled'], bins, labels=names)"
   ]
  },
  {
   "cell_type": "code",
   "execution_count": 258,
   "metadata": {},
   "outputs": [
    {
     "data": {
      "text/html": [
       "<div>\n",
       "<style scoped>\n",
       "    .dataframe tbody tr th:only-of-type {\n",
       "        vertical-align: middle;\n",
       "    }\n",
       "\n",
       "    .dataframe tbody tr th {\n",
       "        vertical-align: top;\n",
       "    }\n",
       "\n",
       "    .dataframe thead th {\n",
       "        text-align: right;\n",
       "    }\n",
       "</style>\n",
       "<table border=\"1\" class=\"dataframe\">\n",
       "  <thead>\n",
       "    <tr style=\"text-align: right;\">\n",
       "      <th></th>\n",
       "      <th>ActivityNumber</th>\n",
       "      <th>ActivityName</th>\n",
       "      <th>SeasonName</th>\n",
       "      <th>Status</th>\n",
       "      <th>CategoryName</th>\n",
       "      <th>Community Center</th>\n",
       "      <th>NumberEnrolled</th>\n",
       "      <th>BeginningDate</th>\n",
       "      <th>EndingDate</th>\n",
       "      <th>StartingTime</th>\n",
       "      <th>...</th>\n",
       "      <th>Minimum Age</th>\n",
       "      <th>Maximum Age</th>\n",
       "      <th>WeekDays</th>\n",
       "      <th>NumberOfHours</th>\n",
       "      <th>NumberOfDates</th>\n",
       "      <th>Fee</th>\n",
       "      <th>Year</th>\n",
       "      <th>Revenue</th>\n",
       "      <th>AgeRange</th>\n",
       "      <th>Enrollment</th>\n",
       "    </tr>\n",
       "  </thead>\n",
       "  <tbody>\n",
       "    <tr>\n",
       "      <th>0</th>\n",
       "      <td>251.2.0707</td>\n",
       "      <td>Arthritis Exercise Program</td>\n",
       "      <td>Fall</td>\n",
       "      <td>Closed</td>\n",
       "      <td>Active Adults (50+) Classes</td>\n",
       "      <td>Almaden Community Center</td>\n",
       "      <td>7</td>\n",
       "      <td>2015-08-06</td>\n",
       "      <td>2015-08-31</td>\n",
       "      <td>13:30:00</td>\n",
       "      <td>...</td>\n",
       "      <td>50</td>\n",
       "      <td>0</td>\n",
       "      <td>M Th</td>\n",
       "      <td>8.0</td>\n",
       "      <td>8</td>\n",
       "      <td>37.0</td>\n",
       "      <td>2015</td>\n",
       "      <td>259.0</td>\n",
       "      <td>Seniors</td>\n",
       "      <td>normal</td>\n",
       "    </tr>\n",
       "    <tr>\n",
       "      <th>1</th>\n",
       "      <td>251.2.1800</td>\n",
       "      <td>Arthritis Exercise Program</td>\n",
       "      <td>Fall</td>\n",
       "      <td>Closed</td>\n",
       "      <td>Active Adults (50+) Classes</td>\n",
       "      <td>Almaden Community Center</td>\n",
       "      <td>13</td>\n",
       "      <td>2015-09-03</td>\n",
       "      <td>2015-10-01</td>\n",
       "      <td>13:30:00</td>\n",
       "      <td>...</td>\n",
       "      <td>50</td>\n",
       "      <td>0</td>\n",
       "      <td>M Th</td>\n",
       "      <td>8.0</td>\n",
       "      <td>8</td>\n",
       "      <td>37.0</td>\n",
       "      <td>2015</td>\n",
       "      <td>481.0</td>\n",
       "      <td>Seniors</td>\n",
       "      <td>high</td>\n",
       "    </tr>\n",
       "    <tr>\n",
       "      <th>2</th>\n",
       "      <td>251.2.1801</td>\n",
       "      <td>Arthritis Exercise Program</td>\n",
       "      <td>Fall</td>\n",
       "      <td>Closed</td>\n",
       "      <td>Active Adults (50+) Classes</td>\n",
       "      <td>Almaden Community Center</td>\n",
       "      <td>9</td>\n",
       "      <td>2015-10-05</td>\n",
       "      <td>2015-11-05</td>\n",
       "      <td>13:30:00</td>\n",
       "      <td>...</td>\n",
       "      <td>50</td>\n",
       "      <td>0</td>\n",
       "      <td>M Th</td>\n",
       "      <td>9.0</td>\n",
       "      <td>9</td>\n",
       "      <td>37.0</td>\n",
       "      <td>2015</td>\n",
       "      <td>333.0</td>\n",
       "      <td>Seniors</td>\n",
       "      <td>normal</td>\n",
       "    </tr>\n",
       "    <tr>\n",
       "      <th>3</th>\n",
       "      <td>251.2.1802</td>\n",
       "      <td>Arthritis Exercise Program</td>\n",
       "      <td>Fall</td>\n",
       "      <td>Closed</td>\n",
       "      <td>Active Adults (50+) Classes</td>\n",
       "      <td>Almaden Community Center</td>\n",
       "      <td>7</td>\n",
       "      <td>2015-11-09</td>\n",
       "      <td>2015-12-07</td>\n",
       "      <td>13:30:00</td>\n",
       "      <td>...</td>\n",
       "      <td>50</td>\n",
       "      <td>0</td>\n",
       "      <td>M Th</td>\n",
       "      <td>8.0</td>\n",
       "      <td>8</td>\n",
       "      <td>37.0</td>\n",
       "      <td>2015</td>\n",
       "      <td>259.0</td>\n",
       "      <td>Seniors</td>\n",
       "      <td>normal</td>\n",
       "    </tr>\n",
       "    <tr>\n",
       "      <th>4</th>\n",
       "      <td>251.2.1814</td>\n",
       "      <td>Bridge Intermediate Class</td>\n",
       "      <td>Fall</td>\n",
       "      <td>Closed</td>\n",
       "      <td>Active Adults (50+) Classes</td>\n",
       "      <td>Almaden Community Center</td>\n",
       "      <td>17</td>\n",
       "      <td>2015-09-01</td>\n",
       "      <td>2015-10-20</td>\n",
       "      <td>13:00:00</td>\n",
       "      <td>...</td>\n",
       "      <td>50</td>\n",
       "      <td>0</td>\n",
       "      <td>Tu</td>\n",
       "      <td>16.0</td>\n",
       "      <td>8</td>\n",
       "      <td>36.0</td>\n",
       "      <td>2015</td>\n",
       "      <td>612.0</td>\n",
       "      <td>Seniors</td>\n",
       "      <td>high</td>\n",
       "    </tr>\n",
       "    <tr>\n",
       "      <th>5</th>\n",
       "      <td>251.2.1815</td>\n",
       "      <td>Bridge Intermediate Class</td>\n",
       "      <td>Fall</td>\n",
       "      <td>Closed</td>\n",
       "      <td>Active Adults (50+) Classes</td>\n",
       "      <td>Almaden Community Center</td>\n",
       "      <td>14</td>\n",
       "      <td>2015-10-27</td>\n",
       "      <td>2015-12-15</td>\n",
       "      <td>13:00:00</td>\n",
       "      <td>...</td>\n",
       "      <td>50</td>\n",
       "      <td>0</td>\n",
       "      <td>Tu</td>\n",
       "      <td>13.5</td>\n",
       "      <td>6</td>\n",
       "      <td>27.0</td>\n",
       "      <td>2015</td>\n",
       "      <td>378.0</td>\n",
       "      <td>Seniors</td>\n",
       "      <td>high</td>\n",
       "    </tr>\n",
       "    <tr>\n",
       "      <th>6</th>\n",
       "      <td>251.2.1892</td>\n",
       "      <td>Dance Fit</td>\n",
       "      <td>Fall</td>\n",
       "      <td>Closed</td>\n",
       "      <td>Active Adults (50+) Classes</td>\n",
       "      <td>Almaden Community Center</td>\n",
       "      <td>41</td>\n",
       "      <td>2015-08-27</td>\n",
       "      <td>2015-09-29</td>\n",
       "      <td>08:00:00</td>\n",
       "      <td>...</td>\n",
       "      <td>50</td>\n",
       "      <td>0</td>\n",
       "      <td>Tu Th</td>\n",
       "      <td>10.0</td>\n",
       "      <td>10</td>\n",
       "      <td>51.0</td>\n",
       "      <td>2015</td>\n",
       "      <td>2091.0</td>\n",
       "      <td>Seniors</td>\n",
       "      <td>high</td>\n",
       "    </tr>\n",
       "    <tr>\n",
       "      <th>7</th>\n",
       "      <td>251.2.1893</td>\n",
       "      <td>Dance Fit</td>\n",
       "      <td>Fall</td>\n",
       "      <td>Cancelled</td>\n",
       "      <td>Active Adults (50+) Classes</td>\n",
       "      <td>Almaden Community Center</td>\n",
       "      <td>0</td>\n",
       "      <td>2015-10-01</td>\n",
       "      <td>2015-11-03</td>\n",
       "      <td>08:00:00</td>\n",
       "      <td>...</td>\n",
       "      <td>50</td>\n",
       "      <td>0</td>\n",
       "      <td>Tu Th</td>\n",
       "      <td>0.0</td>\n",
       "      <td>0</td>\n",
       "      <td>51.0</td>\n",
       "      <td>2015</td>\n",
       "      <td>0.0</td>\n",
       "      <td>Seniors</td>\n",
       "      <td>low</td>\n",
       "    </tr>\n",
       "    <tr>\n",
       "      <th>8</th>\n",
       "      <td>251.2.1894</td>\n",
       "      <td>Dance Fit</td>\n",
       "      <td>Fall</td>\n",
       "      <td>Cancelled</td>\n",
       "      <td>Active Adults (50+) Classes</td>\n",
       "      <td>Almaden Community Center</td>\n",
       "      <td>1</td>\n",
       "      <td>2015-11-05</td>\n",
       "      <td>2015-12-01</td>\n",
       "      <td>08:00:00</td>\n",
       "      <td>...</td>\n",
       "      <td>50</td>\n",
       "      <td>0</td>\n",
       "      <td>Tu Th</td>\n",
       "      <td>0.0</td>\n",
       "      <td>0</td>\n",
       "      <td>40.0</td>\n",
       "      <td>2015</td>\n",
       "      <td>40.0</td>\n",
       "      <td>Seniors</td>\n",
       "      <td>low</td>\n",
       "    </tr>\n",
       "    <tr>\n",
       "      <th>9</th>\n",
       "      <td>251.2.0601</td>\n",
       "      <td>Enhance Fitness</td>\n",
       "      <td>Fall</td>\n",
       "      <td>Closed</td>\n",
       "      <td>Active Adults (50+) Classes</td>\n",
       "      <td>Almaden Community Center</td>\n",
       "      <td>15</td>\n",
       "      <td>2015-09-22</td>\n",
       "      <td>2015-10-15</td>\n",
       "      <td>09:00:00</td>\n",
       "      <td>...</td>\n",
       "      <td>50</td>\n",
       "      <td>0</td>\n",
       "      <td>Tu Th</td>\n",
       "      <td>8.0</td>\n",
       "      <td>8</td>\n",
       "      <td>34.0</td>\n",
       "      <td>2015</td>\n",
       "      <td>510.0</td>\n",
       "      <td>Seniors</td>\n",
       "      <td>high</td>\n",
       "    </tr>\n",
       "  </tbody>\n",
       "</table>\n",
       "<p>10 rows × 21 columns</p>\n",
       "</div>"
      ],
      "text/plain": [
       "  ActivityNumber                ActivityName SeasonName     Status  \\\n",
       "0     251.2.0707  Arthritis Exercise Program       Fall     Closed   \n",
       "1     251.2.1800  Arthritis Exercise Program       Fall     Closed   \n",
       "2     251.2.1801  Arthritis Exercise Program       Fall     Closed   \n",
       "3     251.2.1802  Arthritis Exercise Program       Fall     Closed   \n",
       "4     251.2.1814   Bridge Intermediate Class       Fall     Closed   \n",
       "5     251.2.1815   Bridge Intermediate Class       Fall     Closed   \n",
       "6     251.2.1892                   Dance Fit       Fall     Closed   \n",
       "7     251.2.1893                   Dance Fit       Fall  Cancelled   \n",
       "8     251.2.1894                   Dance Fit       Fall  Cancelled   \n",
       "9     251.2.0601             Enhance Fitness       Fall     Closed   \n",
       "\n",
       "                  CategoryName          Community Center  NumberEnrolled  \\\n",
       "0  Active Adults (50+) Classes  Almaden Community Center               7   \n",
       "1  Active Adults (50+) Classes  Almaden Community Center              13   \n",
       "2  Active Adults (50+) Classes  Almaden Community Center               9   \n",
       "3  Active Adults (50+) Classes  Almaden Community Center               7   \n",
       "4  Active Adults (50+) Classes  Almaden Community Center              17   \n",
       "5  Active Adults (50+) Classes  Almaden Community Center              14   \n",
       "6  Active Adults (50+) Classes  Almaden Community Center              41   \n",
       "7  Active Adults (50+) Classes  Almaden Community Center               0   \n",
       "8  Active Adults (50+) Classes  Almaden Community Center               1   \n",
       "9  Active Adults (50+) Classes  Almaden Community Center              15   \n",
       "\n",
       "  BeginningDate EndingDate StartingTime    ...     Minimum Age  Maximum Age  \\\n",
       "0    2015-08-06 2015-08-31     13:30:00    ...              50            0   \n",
       "1    2015-09-03 2015-10-01     13:30:00    ...              50            0   \n",
       "2    2015-10-05 2015-11-05     13:30:00    ...              50            0   \n",
       "3    2015-11-09 2015-12-07     13:30:00    ...              50            0   \n",
       "4    2015-09-01 2015-10-20     13:00:00    ...              50            0   \n",
       "5    2015-10-27 2015-12-15     13:00:00    ...              50            0   \n",
       "6    2015-08-27 2015-09-29     08:00:00    ...              50            0   \n",
       "7    2015-10-01 2015-11-03     08:00:00    ...              50            0   \n",
       "8    2015-11-05 2015-12-01     08:00:00    ...              50            0   \n",
       "9    2015-09-22 2015-10-15     09:00:00    ...              50            0   \n",
       "\n",
       "   WeekDays NumberOfHours  NumberOfDates   Fee  Year Revenue  AgeRange  \\\n",
       "0      M Th           8.0              8  37.0  2015   259.0   Seniors   \n",
       "1      M Th           8.0              8  37.0  2015   481.0   Seniors   \n",
       "2      M Th           9.0              9  37.0  2015   333.0   Seniors   \n",
       "3      M Th           8.0              8  37.0  2015   259.0   Seniors   \n",
       "4        Tu          16.0              8  36.0  2015   612.0   Seniors   \n",
       "5        Tu          13.5              6  27.0  2015   378.0   Seniors   \n",
       "6     Tu Th          10.0             10  51.0  2015  2091.0   Seniors   \n",
       "7     Tu Th           0.0              0  51.0  2015     0.0   Seniors   \n",
       "8     Tu Th           0.0              0  40.0  2015    40.0   Seniors   \n",
       "9     Tu Th           8.0              8  34.0  2015   510.0   Seniors   \n",
       "\n",
       "  Enrollment  \n",
       "0     normal  \n",
       "1       high  \n",
       "2     normal  \n",
       "3     normal  \n",
       "4       high  \n",
       "5       high  \n",
       "6       high  \n",
       "7        low  \n",
       "8        low  \n",
       "9       high  \n",
       "\n",
       "[10 rows x 21 columns]"
      ]
     },
     "execution_count": 258,
     "metadata": {},
     "output_type": "execute_result"
    }
   ],
   "source": [
    "df.head(10)"
   ]
  },
  {
   "cell_type": "code",
   "execution_count": 259,
   "metadata": {},
   "outputs": [
    {
     "data": {
      "text/plain": [
       "normal    5111\n",
       "high      3208\n",
       "low       2855\n",
       "Name: Enrollment, dtype: int64"
      ]
     },
     "execution_count": 259,
     "metadata": {},
     "output_type": "execute_result"
    }
   ],
   "source": [
    "df.Enrollment.value_counts()"
   ]
  },
  {
   "cell_type": "markdown",
   "metadata": {},
   "source": [
    "# Classification model to predict low enrollment for an activitiy "
   ]
  },
  {
   "cell_type": "code",
   "execution_count": 260,
   "metadata": {},
   "outputs": [],
   "source": [
    "# Conversion to a Classification Task...\n",
    "from sklearn.metrics import accuracy_score\n",
    "from sklearn.model_selection import train_test_split\n",
    "from sklearn.tree import DecisionTreeClassifier"
   ]
  },
  {
   "cell_type": "code",
   "execution_count": 261,
   "metadata": {},
   "outputs": [],
   "source": [
    "clean_data = df.copy()"
   ]
  },
  {
   "cell_type": "code",
   "execution_count": 262,
   "metadata": {},
   "outputs": [
    {
     "name": "stdout",
     "output_type": "stream",
     "text": [
      "0       0\n",
      "1       0\n",
      "2       0\n",
      "3       0\n",
      "4       0\n",
      "5       0\n",
      "6       0\n",
      "7       1\n",
      "8       1\n",
      "9       0\n",
      "10      0\n",
      "11      0\n",
      "12      1\n",
      "13      0\n",
      "14      0\n",
      "15      0\n",
      "16      0\n",
      "17      0\n",
      "18      0\n",
      "19      0\n",
      "20      0\n",
      "21      0\n",
      "22      0\n",
      "23      0\n",
      "24      0\n",
      "25      0\n",
      "26      0\n",
      "27      0\n",
      "28      0\n",
      "29      0\n",
      "       ..\n",
      "4013    1\n",
      "4014    0\n",
      "4015    0\n",
      "4016    0\n",
      "4017    0\n",
      "4018    0\n",
      "4019    1\n",
      "4020    0\n",
      "4021    1\n",
      "4022    1\n",
      "4023    1\n",
      "4024    1\n",
      "4025    1\n",
      "4026    1\n",
      "4027    0\n",
      "4028    0\n",
      "4029    0\n",
      "4030    0\n",
      "4031    0\n",
      "4032    0\n",
      "4033    0\n",
      "4034    0\n",
      "4035    0\n",
      "4036    0\n",
      "4037    0\n",
      "4038    1\n",
      "4039    0\n",
      "4040    0\n",
      "4041    1\n",
      "4042    0\n",
      "Name: enrollment_label, Length: 11174, dtype: int64\n"
     ]
    }
   ],
   "source": [
    "# Creating a categorical feature for activities that are \"low attendance\".\n",
    "clean_data['enrollment_label'] = (clean_data['NumberEnrolled'] < 2)*1\n",
    "print(clean_data['enrollment_label'])"
   ]
  },
  {
   "cell_type": "code",
   "execution_count": 263,
   "metadata": {},
   "outputs": [],
   "source": [
    "# Creating a target variable for the model. \n",
    "y=clean_data[['enrollment_label']].copy()"
   ]
  },
  {
   "cell_type": "code",
   "execution_count": 264,
   "metadata": {},
   "outputs": [
    {
     "data": {
      "text/plain": [
       "0     7\n",
       "1    13\n",
       "2     9\n",
       "3     7\n",
       "4    17\n",
       "5    14\n",
       "6    41\n",
       "7     0\n",
       "8     1\n",
       "9    15\n",
       "Name: NumberEnrolled, dtype: int64"
      ]
     },
     "execution_count": 264,
     "metadata": {},
     "output_type": "execute_result"
    }
   ],
   "source": [
    "clean_data['NumberEnrolled'].head(10)"
   ]
  },
  {
   "cell_type": "code",
   "execution_count": 265,
   "metadata": {},
   "outputs": [
    {
     "data": {
      "text/html": [
       "<div>\n",
       "<style scoped>\n",
       "    .dataframe tbody tr th:only-of-type {\n",
       "        vertical-align: middle;\n",
       "    }\n",
       "\n",
       "    .dataframe tbody tr th {\n",
       "        vertical-align: top;\n",
       "    }\n",
       "\n",
       "    .dataframe thead th {\n",
       "        text-align: right;\n",
       "    }\n",
       "</style>\n",
       "<table border=\"1\" class=\"dataframe\">\n",
       "  <thead>\n",
       "    <tr style=\"text-align: right;\">\n",
       "      <th></th>\n",
       "      <th>enrollment_label</th>\n",
       "    </tr>\n",
       "  </thead>\n",
       "  <tbody>\n",
       "    <tr>\n",
       "      <th>0</th>\n",
       "      <td>0</td>\n",
       "    </tr>\n",
       "    <tr>\n",
       "      <th>1</th>\n",
       "      <td>0</td>\n",
       "    </tr>\n",
       "    <tr>\n",
       "      <th>2</th>\n",
       "      <td>0</td>\n",
       "    </tr>\n",
       "    <tr>\n",
       "      <th>3</th>\n",
       "      <td>0</td>\n",
       "    </tr>\n",
       "    <tr>\n",
       "      <th>4</th>\n",
       "      <td>0</td>\n",
       "    </tr>\n",
       "    <tr>\n",
       "      <th>5</th>\n",
       "      <td>0</td>\n",
       "    </tr>\n",
       "    <tr>\n",
       "      <th>6</th>\n",
       "      <td>0</td>\n",
       "    </tr>\n",
       "    <tr>\n",
       "      <th>7</th>\n",
       "      <td>1</td>\n",
       "    </tr>\n",
       "    <tr>\n",
       "      <th>8</th>\n",
       "      <td>1</td>\n",
       "    </tr>\n",
       "    <tr>\n",
       "      <th>9</th>\n",
       "      <td>0</td>\n",
       "    </tr>\n",
       "  </tbody>\n",
       "</table>\n",
       "</div>"
      ],
      "text/plain": [
       "   enrollment_label\n",
       "0                 0\n",
       "1                 0\n",
       "2                 0\n",
       "3                 0\n",
       "4                 0\n",
       "5                 0\n",
       "6                 0\n",
       "7                 1\n",
       "8                 1\n",
       "9                 0"
      ]
     },
     "execution_count": 265,
     "metadata": {},
     "output_type": "execute_result"
    }
   ],
   "source": [
    "y.head(10)"
   ]
  },
  {
   "cell_type": "code",
   "execution_count": 266,
   "metadata": {},
   "outputs": [
    {
     "data": {
      "text/html": [
       "<div>\n",
       "<style scoped>\n",
       "    .dataframe tbody tr th:only-of-type {\n",
       "        vertical-align: middle;\n",
       "    }\n",
       "\n",
       "    .dataframe tbody tr th {\n",
       "        vertical-align: top;\n",
       "    }\n",
       "\n",
       "    .dataframe thead th {\n",
       "        text-align: right;\n",
       "    }\n",
       "</style>\n",
       "<table border=\"1\" class=\"dataframe\">\n",
       "  <thead>\n",
       "    <tr style=\"text-align: right;\">\n",
       "      <th></th>\n",
       "      <th>NumberEnrolled</th>\n",
       "      <th>Minimum Age</th>\n",
       "      <th>Maximum Age</th>\n",
       "      <th>NumberOfHours</th>\n",
       "      <th>NumberOfDates</th>\n",
       "      <th>Fee</th>\n",
       "      <th>Revenue</th>\n",
       "      <th>enrollment_label</th>\n",
       "    </tr>\n",
       "  </thead>\n",
       "  <tbody>\n",
       "    <tr>\n",
       "      <th>count</th>\n",
       "      <td>11174.000000</td>\n",
       "      <td>11174.000000</td>\n",
       "      <td>11174.000000</td>\n",
       "      <td>11174.000000</td>\n",
       "      <td>11174.000000</td>\n",
       "      <td>11174.000000</td>\n",
       "      <td>11174.00000</td>\n",
       "      <td>11174.000000</td>\n",
       "    </tr>\n",
       "    <tr>\n",
       "      <th>mean</th>\n",
       "      <td>10.558529</td>\n",
       "      <td>15.269733</td>\n",
       "      <td>14.001790</td>\n",
       "      <td>12.618832</td>\n",
       "      <td>6.468140</td>\n",
       "      <td>101.568597</td>\n",
       "      <td>1081.95503</td>\n",
       "      <td>0.255504</td>\n",
       "    </tr>\n",
       "    <tr>\n",
       "      <th>std</th>\n",
       "      <td>13.224542</td>\n",
       "      <td>18.319550</td>\n",
       "      <td>24.437962</td>\n",
       "      <td>16.196442</td>\n",
       "      <td>5.124566</td>\n",
       "      <td>88.282225</td>\n",
       "      <td>1972.91255</td>\n",
       "      <td>0.436164</td>\n",
       "    </tr>\n",
       "    <tr>\n",
       "      <th>min</th>\n",
       "      <td>0.000000</td>\n",
       "      <td>0.000000</td>\n",
       "      <td>0.000000</td>\n",
       "      <td>0.000000</td>\n",
       "      <td>0.000000</td>\n",
       "      <td>0.000000</td>\n",
       "      <td>0.00000</td>\n",
       "      <td>0.000000</td>\n",
       "    </tr>\n",
       "    <tr>\n",
       "      <th>25%</th>\n",
       "      <td>1.000000</td>\n",
       "      <td>4.000000</td>\n",
       "      <td>3.000000</td>\n",
       "      <td>4.000000</td>\n",
       "      <td>4.000000</td>\n",
       "      <td>37.000000</td>\n",
       "      <td>40.00000</td>\n",
       "      <td>0.000000</td>\n",
       "    </tr>\n",
       "    <tr>\n",
       "      <th>50%</th>\n",
       "      <td>7.000000</td>\n",
       "      <td>6.000000</td>\n",
       "      <td>8.000000</td>\n",
       "      <td>6.750000</td>\n",
       "      <td>6.000000</td>\n",
       "      <td>90.000000</td>\n",
       "      <td>450.00000</td>\n",
       "      <td>0.000000</td>\n",
       "    </tr>\n",
       "    <tr>\n",
       "      <th>75%</th>\n",
       "      <td>14.000000</td>\n",
       "      <td>16.000000</td>\n",
       "      <td>12.000000</td>\n",
       "      <td>15.000000</td>\n",
       "      <td>8.000000</td>\n",
       "      <td>131.000000</td>\n",
       "      <td>1089.00000</td>\n",
       "      <td>1.000000</td>\n",
       "    </tr>\n",
       "    <tr>\n",
       "      <th>max</th>\n",
       "      <td>165.000000</td>\n",
       "      <td>55.000000</td>\n",
       "      <td>100.000000</td>\n",
       "      <td>167.883000</td>\n",
       "      <td>60.000000</td>\n",
       "      <td>921.000000</td>\n",
       "      <td>38472.00000</td>\n",
       "      <td>1.000000</td>\n",
       "    </tr>\n",
       "  </tbody>\n",
       "</table>\n",
       "</div>"
      ],
      "text/plain": [
       "       NumberEnrolled   Minimum Age   Maximum Age  NumberOfHours  \\\n",
       "count    11174.000000  11174.000000  11174.000000   11174.000000   \n",
       "mean        10.558529     15.269733     14.001790      12.618832   \n",
       "std         13.224542     18.319550     24.437962      16.196442   \n",
       "min          0.000000      0.000000      0.000000       0.000000   \n",
       "25%          1.000000      4.000000      3.000000       4.000000   \n",
       "50%          7.000000      6.000000      8.000000       6.750000   \n",
       "75%         14.000000     16.000000     12.000000      15.000000   \n",
       "max        165.000000     55.000000    100.000000     167.883000   \n",
       "\n",
       "       NumberOfDates           Fee      Revenue  enrollment_label  \n",
       "count   11174.000000  11174.000000  11174.00000      11174.000000  \n",
       "mean        6.468140    101.568597   1081.95503          0.255504  \n",
       "std         5.124566     88.282225   1972.91255          0.436164  \n",
       "min         0.000000      0.000000      0.00000          0.000000  \n",
       "25%         4.000000     37.000000     40.00000          0.000000  \n",
       "50%         6.000000     90.000000    450.00000          0.000000  \n",
       "75%         8.000000    131.000000   1089.00000          1.000000  \n",
       "max        60.000000    921.000000  38472.00000          1.000000  "
      ]
     },
     "execution_count": 266,
     "metadata": {},
     "output_type": "execute_result"
    }
   ],
   "source": [
    "clean_data.describe()"
   ]
  },
  {
   "cell_type": "code",
   "execution_count": 267,
   "metadata": {},
   "outputs": [
    {
     "data": {
      "text/plain": [
       "Index(['ActivityNumber', 'ActivityName', 'SeasonName', 'Status',\n",
       "       'CategoryName', 'Community Center', 'NumberEnrolled', 'BeginningDate',\n",
       "       'EndingDate', 'StartingTime', 'EndingTime', 'Minimum Age',\n",
       "       'Maximum Age', 'WeekDays', 'NumberOfHours', 'NumberOfDates', 'Fee',\n",
       "       'Year', 'Revenue', 'AgeRange', 'Enrollment', 'enrollment_label'],\n",
       "      dtype='object')"
      ]
     },
     "execution_count": 267,
     "metadata": {},
     "output_type": "execute_result"
    }
   ],
   "source": [
    "clean_data.columns"
   ]
  },
  {
   "cell_type": "code",
   "execution_count": 268,
   "metadata": {},
   "outputs": [
    {
     "name": "stdout",
     "output_type": "stream",
     "text": [
      "<class 'pandas.core.frame.DataFrame'>\n",
      "Int64Index: 11174 entries, 0 to 4042\n",
      "Data columns (total 22 columns):\n",
      "ActivityNumber      11174 non-null object\n",
      "ActivityName        11174 non-null object\n",
      "SeasonName          11174 non-null object\n",
      "Status              11174 non-null object\n",
      "CategoryName        11174 non-null object\n",
      "Community Center    11174 non-null object\n",
      "NumberEnrolled      11174 non-null int64\n",
      "BeginningDate       11174 non-null int64\n",
      "EndingDate          11174 non-null int64\n",
      "StartingTime        11174 non-null object\n",
      "EndingTime          11174 non-null object\n",
      "Minimum Age         11174 non-null int64\n",
      "Maximum Age         11174 non-null int64\n",
      "WeekDays            11174 non-null object\n",
      "NumberOfHours       11174 non-null int64\n",
      "NumberOfDates       11174 non-null int64\n",
      "Fee                 11174 non-null float64\n",
      "Year                11174 non-null object\n",
      "Revenue             11174 non-null float64\n",
      "AgeRange            11174 non-null category\n",
      "Enrollment          11174 non-null category\n",
      "enrollment_label    11174 non-null int64\n",
      "dtypes: category(2), float64(2), int64(8), object(10)\n",
      "memory usage: 1.8+ MB\n"
     ]
    }
   ],
   "source": [
    "# Converting the data types so they can be used in the model. \n",
    "clean_data['BeginningDate'] = clean_data['BeginningDate'].astype(np.int64)\n",
    "clean_data['EndingDate'] = clean_data['EndingDate'].astype(np.int64)\n",
    "clean_data['NumberOfHours'] = clean_data['NumberOfHours'].astype(np.int64)\n",
    "#clean_data['StartingTime'] = clean_data['StartingTime'].astype(np.int64)\n",
    "#clean_data['EndingTime'] = clean_data['EndingTime'].astype(np.int64)\n",
    "clean_data.info()"
   ]
  },
  {
   "cell_type": "code",
   "execution_count": 269,
   "metadata": {},
   "outputs": [],
   "source": [
    "# Enrollment features that will be used in the model. \n",
    "enrollment_features = ['BeginningDate','EndingDate','Minimum Age','Maximum Age',\n",
    "                       'NumberOfHours','NumberOfDates','Fee']"
   ]
  },
  {
   "cell_type": "code",
   "execution_count": 270,
   "metadata": {},
   "outputs": [],
   "source": [
    "X = clean_data[enrollment_features].copy()"
   ]
  },
  {
   "cell_type": "code",
   "execution_count": 271,
   "metadata": {},
   "outputs": [
    {
     "data": {
      "text/plain": [
       "Index(['BeginningDate', 'EndingDate', 'Minimum Age', 'Maximum Age',\n",
       "       'NumberOfHours', 'NumberOfDates', 'Fee'],\n",
       "      dtype='object')"
      ]
     },
     "execution_count": 271,
     "metadata": {},
     "output_type": "execute_result"
    }
   ],
   "source": [
    "X.columns"
   ]
  },
  {
   "cell_type": "code",
   "execution_count": 272,
   "metadata": {},
   "outputs": [
    {
     "data": {
      "text/plain": [
       "Index(['enrollment_label'], dtype='object')"
      ]
     },
     "execution_count": 272,
     "metadata": {},
     "output_type": "execute_result"
    }
   ],
   "source": [
    "y.columns"
   ]
  },
  {
   "cell_type": "markdown",
   "metadata": {},
   "source": [
    "# Train the model"
   ]
  },
  {
   "cell_type": "code",
   "execution_count": 273,
   "metadata": {},
   "outputs": [],
   "source": [
    "X_train, X_test, y_train, y_test = train_test_split(X, y, test_size=0.33, random_state=456)"
   ]
  },
  {
   "cell_type": "code",
   "execution_count": 274,
   "metadata": {},
   "outputs": [
    {
     "data": {
      "text/plain": [
       "DecisionTreeClassifier(class_weight=None, criterion='gini', max_depth=None,\n",
       "            max_features=None, max_leaf_nodes=10,\n",
       "            min_impurity_decrease=0.0, min_impurity_split=None,\n",
       "            min_samples_leaf=1, min_samples_split=2,\n",
       "            min_weight_fraction_leaf=0.0, presort=False, random_state=0,\n",
       "            splitter='best')"
      ]
     },
     "execution_count": 274,
     "metadata": {},
     "output_type": "execute_result"
    }
   ],
   "source": [
    "# Creating the classifier then fitting it to our training data.\n",
    "enrollment_classifier = DecisionTreeClassifier(max_leaf_nodes=10, random_state=0)\n",
    "enrollment_classifier.fit(X_train, y_train)"
   ]
  },
  {
   "cell_type": "code",
   "execution_count": 275,
   "metadata": {},
   "outputs": [
    {
     "data": {
      "text/plain": [
       "sklearn.tree.tree.DecisionTreeClassifier"
      ]
     },
     "execution_count": 275,
     "metadata": {},
     "output_type": "execute_result"
    }
   ],
   "source": [
    "type(enrollment_classifier)"
   ]
  },
  {
   "cell_type": "code",
   "execution_count": 276,
   "metadata": {},
   "outputs": [],
   "source": [
    "# Using testing data to get the model predictions. \n",
    "predictions = enrollment_classifier.predict(X_test)"
   ]
  },
  {
   "cell_type": "code",
   "execution_count": 277,
   "metadata": {},
   "outputs": [
    {
     "data": {
      "text/plain": [
       "array([1, 0, 0, 0, 0, 0, 0, 0, 0, 0], dtype=int64)"
      ]
     },
     "execution_count": 277,
     "metadata": {},
     "output_type": "execute_result"
    }
   ],
   "source": [
    "predictions[:10]"
   ]
  },
  {
   "cell_type": "code",
   "execution_count": 278,
   "metadata": {},
   "outputs": [
    {
     "data": {
      "text/plain": [
       "2603    1\n",
       "608     0\n",
       "1105    0\n",
       "965     0\n",
       "1098    0\n",
       "578     0\n",
       "3811    0\n",
       "2893    0\n",
       "1038    0\n",
       "3338    0\n",
       "Name: enrollment_label, dtype: int64"
      ]
     },
     "execution_count": 278,
     "metadata": {},
     "output_type": "execute_result"
    }
   ],
   "source": [
    "y_test['enrollment_label'][:10]"
   ]
  },
  {
   "cell_type": "code",
   "execution_count": 279,
   "metadata": {},
   "outputs": [
    {
     "data": {
      "text/plain": [
       "0.886117136659436"
      ]
     },
     "execution_count": 279,
     "metadata": {},
     "output_type": "execute_result"
    }
   ],
   "source": [
    "# How well does our model predict the target, 88.6% prediction accuracy. \n",
    "accuracy_score(y_true = y_test, y_pred = predictions)"
   ]
  },
  {
   "cell_type": "code",
   "execution_count": 280,
   "metadata": {},
   "outputs": [
    {
     "data": {
      "text/plain": [
       "DecisionTreeClassifier(class_weight=None, criterion='gini', max_depth=None,\n",
       "            max_features=None, max_leaf_nodes=10,\n",
       "            min_impurity_decrease=0.0, min_impurity_split=None,\n",
       "            min_samples_leaf=1, min_samples_split=2,\n",
       "            min_weight_fraction_leaf=0.0, presort=False, random_state=0,\n",
       "            splitter='best')"
      ]
     },
     "execution_count": 280,
     "metadata": {},
     "output_type": "execute_result"
    }
   ],
   "source": [
    "enrollment_classifier"
   ]
  },
  {
   "cell_type": "code",
   "execution_count": 281,
   "metadata": {},
   "outputs": [],
   "source": [
    "# Creating a graph of the classification tree.\n",
    "from sklearn import tree\n",
    "tree.export_graphviz(enrollment_classifier, out_file='tree.dot')"
   ]
  },
  {
   "cell_type": "markdown",
   "metadata": {},
   "source": [
    "# Proportion of activities with low attendance"
   ]
  },
  {
   "cell_type": "code",
   "execution_count": 282,
   "metadata": {},
   "outputs": [
    {
     "data": {
      "text/plain": [
       "(11174, 22)"
      ]
     },
     "execution_count": 282,
     "metadata": {},
     "output_type": "execute_result"
    }
   ],
   "source": [
    "clean_data.shape"
   ]
  },
  {
   "cell_type": "code",
   "execution_count": 283,
   "metadata": {},
   "outputs": [
    {
     "data": {
      "text/plain": [
       "Index(['ActivityNumber', 'ActivityName', 'SeasonName', 'Status',\n",
       "       'CategoryName', 'Community Center', 'NumberEnrolled', 'BeginningDate',\n",
       "       'EndingDate', 'StartingTime', 'EndingTime', 'Minimum Age',\n",
       "       'Maximum Age', 'WeekDays', 'NumberOfHours', 'NumberOfDates', 'Fee',\n",
       "       'Year', 'Revenue', 'AgeRange', 'Enrollment', 'enrollment_label'],\n",
       "      dtype='object')"
      ]
     },
     "execution_count": 283,
     "metadata": {},
     "output_type": "execute_result"
    }
   ],
   "source": [
    "clean_data.columns"
   ]
  },
  {
   "cell_type": "code",
   "execution_count": 284,
   "metadata": {},
   "outputs": [],
   "source": [
    "# Checking proportion of low attendance activities by community center.\n",
    "community_centers = clean_data['Community Center'].unique().tolist()"
   ]
  },
  {
   "cell_type": "code",
   "execution_count": 285,
   "metadata": {},
   "outputs": [
    {
     "name": "stdout",
     "output_type": "stream",
     "text": [
      "['Almaden Community Center', 'Berryessa Community Center', 'Camden Community Center', 'Cypress Community & Senior Center', 'Evergreen Community Center', 'Mayfair Community Center', 'Seven Trees Community Center', 'Southside Community Center', 'Willow Glen Community Center', 'Roosevelt Community Center', 'Emma Prusch Farm Park', 'Happy Hollow Park & Zoo', 'Almaden Lake Park', 'Bascom Community Center', 'Lake Cunningham Regional Skate Park', 'Therapeutic Services', 'Calabazas Park', 'Kirk Community Center', 'Alum Rock Community Center', 'Almaden', 'Berryessa', 'Camden', 'Cypress', 'Evergreen', 'Mayfair', 'Seven Trees', 'Southside', 'Willow Glen', 'Gardner', 'Roosevelt', 'Emma Prusch', 'Almaden Lake', 'Cunningham Skate', 'Happy Hollow', 'Bascom', 'Alum Rock', 'Hank Lopez Community Center', 'Alviso Community Center']\n"
     ]
    }
   ],
   "source": [
    "print(community_centers)"
   ]
  },
  {
   "cell_type": "code",
   "execution_count": 286,
   "metadata": {},
   "outputs": [],
   "source": [
    "centers = pd.DataFrame(columns=['Community Center', 'total activities', \n",
    "                                'total low attendance','% low attendance', ])\n",
    "\n",
    "for i in community_centers:\n",
    "    \n",
    "    center = i\n",
    "    \n",
    "    center_df = clean_data.loc[clean_data['Community Center'].str.contains(center)]\n",
    "    total_centers = len(center_df.index)\n",
    "    low_attend = center_df['enrollment_label'].isin([1]).sum()\n",
    "    \n",
    "    proportion_low = (low_attend/total_centers)*100\n",
    "    \n",
    "    centers = centers.append({'Community Center':i, \n",
    "                              'total activities': total_centers, \n",
    "                              'total low attendance': low_attend, \n",
    "                              '% low attendance': proportion_low }, ignore_index=True)\n",
    "    "
   ]
  },
  {
   "cell_type": "code",
   "execution_count": 287,
   "metadata": {},
   "outputs": [
    {
     "data": {
      "text/html": [
       "<div>\n",
       "<style scoped>\n",
       "    .dataframe tbody tr th:only-of-type {\n",
       "        vertical-align: middle;\n",
       "    }\n",
       "\n",
       "    .dataframe tbody tr th {\n",
       "        vertical-align: top;\n",
       "    }\n",
       "\n",
       "    .dataframe thead th {\n",
       "        text-align: right;\n",
       "    }\n",
       "</style>\n",
       "<table border=\"1\" class=\"dataframe\">\n",
       "  <thead>\n",
       "    <tr style=\"text-align: right;\">\n",
       "      <th></th>\n",
       "      <th>Community Center</th>\n",
       "      <th>total activities</th>\n",
       "      <th>total low attendance</th>\n",
       "      <th>% low attendance</th>\n",
       "    </tr>\n",
       "  </thead>\n",
       "  <tbody>\n",
       "    <tr>\n",
       "      <th>36</th>\n",
       "      <td>Hank Lopez Community Center</td>\n",
       "      <td>5</td>\n",
       "      <td>3</td>\n",
       "      <td>60.000000</td>\n",
       "    </tr>\n",
       "    <tr>\n",
       "      <th>31</th>\n",
       "      <td>Almaden Lake</td>\n",
       "      <td>118</td>\n",
       "      <td>66</td>\n",
       "      <td>55.932203</td>\n",
       "    </tr>\n",
       "    <tr>\n",
       "      <th>12</th>\n",
       "      <td>Almaden Lake Park</td>\n",
       "      <td>87</td>\n",
       "      <td>47</td>\n",
       "      <td>54.022989</td>\n",
       "    </tr>\n",
       "    <tr>\n",
       "      <th>9</th>\n",
       "      <td>Roosevelt Community Center</td>\n",
       "      <td>393</td>\n",
       "      <td>204</td>\n",
       "      <td>51.908397</td>\n",
       "    </tr>\n",
       "    <tr>\n",
       "      <th>34</th>\n",
       "      <td>Bascom</td>\n",
       "      <td>263</td>\n",
       "      <td>132</td>\n",
       "      <td>50.190114</td>\n",
       "    </tr>\n",
       "  </tbody>\n",
       "</table>\n",
       "</div>"
      ],
      "text/plain": [
       "               Community Center total activities total low attendance  \\\n",
       "36  Hank Lopez Community Center                5                    3   \n",
       "31                 Almaden Lake              118                   66   \n",
       "12            Almaden Lake Park               87                   47   \n",
       "9    Roosevelt Community Center              393                  204   \n",
       "34                       Bascom              263                  132   \n",
       "\n",
       "    % low attendance  \n",
       "36         60.000000  \n",
       "31         55.932203  \n",
       "12         54.022989  \n",
       "9          51.908397  \n",
       "34         50.190114  "
      ]
     },
     "execution_count": 287,
     "metadata": {},
     "output_type": "execute_result"
    }
   ],
   "source": [
    "centers.sort_values(by='% low attendance', ascending=False).head(5)"
   ]
  },
  {
   "cell_type": "code",
   "execution_count": 288,
   "metadata": {},
   "outputs": [],
   "source": [
    "# Checking proportion of low attendance activities by season. \n",
    "seasonNames = clean_data['SeasonName'].unique().tolist()"
   ]
  },
  {
   "cell_type": "code",
   "execution_count": 289,
   "metadata": {},
   "outputs": [
    {
     "data": {
      "text/plain": [
       "['Fall', 'Summer', 'Spring', 'Winter']"
      ]
     },
     "execution_count": 289,
     "metadata": {},
     "output_type": "execute_result"
    }
   ],
   "source": [
    "seasonNames"
   ]
  },
  {
   "cell_type": "code",
   "execution_count": 290,
   "metadata": {},
   "outputs": [],
   "source": [
    "seasons = pd.DataFrame(columns=['Season', 'total activities', \n",
    "                                'total low attendance','% low attendance'])\n",
    "\n",
    "for i in seasonNames:\n",
    "    \n",
    "    season = i\n",
    "    \n",
    "    season_df = clean_data.loc[clean_data['SeasonName'].str.contains(season)]\n",
    "    total_seasons = len(season_df.index)\n",
    "    low_attend = season_df['enrollment_label'].isin([1]).sum()\n",
    "    \n",
    "    proportion_low = (low_attend/total_seasons)*100\n",
    "    \n",
    "    seasons = seasons.append({'Season':i, \n",
    "                              'total activities': total_seasons, \n",
    "                              'total low attendance': low_attend, \n",
    "                              '% low attendance': proportion_low, }, ignore_index=True)\n",
    "    "
   ]
  },
  {
   "cell_type": "code",
   "execution_count": 291,
   "metadata": {},
   "outputs": [
    {
     "data": {
      "text/html": [
       "<div>\n",
       "<style scoped>\n",
       "    .dataframe tbody tr th:only-of-type {\n",
       "        vertical-align: middle;\n",
       "    }\n",
       "\n",
       "    .dataframe tbody tr th {\n",
       "        vertical-align: top;\n",
       "    }\n",
       "\n",
       "    .dataframe thead th {\n",
       "        text-align: right;\n",
       "    }\n",
       "</style>\n",
       "<table border=\"1\" class=\"dataframe\">\n",
       "  <thead>\n",
       "    <tr style=\"text-align: right;\">\n",
       "      <th></th>\n",
       "      <th>Season</th>\n",
       "      <th>total activities</th>\n",
       "      <th>total low attendance</th>\n",
       "      <th>% low attendance</th>\n",
       "    </tr>\n",
       "  </thead>\n",
       "  <tbody>\n",
       "    <tr>\n",
       "      <th>2</th>\n",
       "      <td>Spring</td>\n",
       "      <td>1060</td>\n",
       "      <td>363</td>\n",
       "      <td>34.245283</td>\n",
       "    </tr>\n",
       "    <tr>\n",
       "      <th>3</th>\n",
       "      <td>Winter</td>\n",
       "      <td>1796</td>\n",
       "      <td>467</td>\n",
       "      <td>26.002227</td>\n",
       "    </tr>\n",
       "    <tr>\n",
       "      <th>0</th>\n",
       "      <td>Fall</td>\n",
       "      <td>3541</td>\n",
       "      <td>887</td>\n",
       "      <td>25.049421</td>\n",
       "    </tr>\n",
       "    <tr>\n",
       "      <th>1</th>\n",
       "      <td>Summer</td>\n",
       "      <td>4777</td>\n",
       "      <td>1138</td>\n",
       "      <td>23.822483</td>\n",
       "    </tr>\n",
       "  </tbody>\n",
       "</table>\n",
       "</div>"
      ],
      "text/plain": [
       "   Season total activities total low attendance  % low attendance\n",
       "2  Spring             1060                  363         34.245283\n",
       "3  Winter             1796                  467         26.002227\n",
       "0    Fall             3541                  887         25.049421\n",
       "1  Summer             4777                 1138         23.822483"
      ]
     },
     "execution_count": 291,
     "metadata": {},
     "output_type": "execute_result"
    }
   ],
   "source": [
    "seasons.sort_values(by='% low attendance', ascending=False).head(5)"
   ]
  },
  {
   "cell_type": "code",
   "execution_count": 292,
   "metadata": {},
   "outputs": [],
   "source": [
    "spring = clean_data.loc[clean_data['SeasonName'].str.contains('Spring 2015')]"
   ]
  },
  {
   "cell_type": "code",
   "execution_count": 293,
   "metadata": {},
   "outputs": [
    {
     "data": {
      "text/plain": [
       "Series([], Name: enrollment_label, dtype: int64)"
      ]
     },
     "execution_count": 293,
     "metadata": {},
     "output_type": "execute_result"
    }
   ],
   "source": [
    "spring['enrollment_label'].value_counts()"
   ]
  },
  {
   "cell_type": "code",
   "execution_count": 294,
   "metadata": {},
   "outputs": [],
   "source": [
    "# Checking proportion of low attendance activities by age \n",
    "ageGroups = clean_data['AgeRange'].unique().tolist()"
   ]
  },
  {
   "cell_type": "code",
   "execution_count": 295,
   "metadata": {},
   "outputs": [
    {
     "data": {
      "text/plain": [
       "['Seniors', 'Adults', 'Children', 'Teens']"
      ]
     },
     "execution_count": 295,
     "metadata": {},
     "output_type": "execute_result"
    }
   ],
   "source": [
    "ageGroups"
   ]
  },
  {
   "cell_type": "code",
   "execution_count": 296,
   "metadata": {},
   "outputs": [],
   "source": [
    "ages = pd.DataFrame(columns=['Age Groups', 'total activities', \n",
    "                                'total low attendance','% low attendance'])\n",
    "\n",
    "for i in ageGroups:\n",
    "    \n",
    "    age = i\n",
    "    \n",
    "    age_df = clean_data.loc[clean_data['AgeRange'].str.contains(age)]\n",
    "    total_ages = len(age_df.index)\n",
    "    low_attend = age_df['enrollment_label'].isin([1]).sum()\n",
    "    \n",
    "    proportion_low = (low_attend/total_ages)*100\n",
    "    \n",
    "    ages = ages.append({'Age Groups':i, \n",
    "                              'total activities': total_ages, \n",
    "                              'total low attendance': low_attend, \n",
    "                              '% low attendance': proportion_low, }, ignore_index=True)\n",
    "    "
   ]
  },
  {
   "cell_type": "code",
   "execution_count": 297,
   "metadata": {},
   "outputs": [
    {
     "data": {
      "text/html": [
       "<div>\n",
       "<style scoped>\n",
       "    .dataframe tbody tr th:only-of-type {\n",
       "        vertical-align: middle;\n",
       "    }\n",
       "\n",
       "    .dataframe tbody tr th {\n",
       "        vertical-align: top;\n",
       "    }\n",
       "\n",
       "    .dataframe thead th {\n",
       "        text-align: right;\n",
       "    }\n",
       "</style>\n",
       "<table border=\"1\" class=\"dataframe\">\n",
       "  <thead>\n",
       "    <tr style=\"text-align: right;\">\n",
       "      <th></th>\n",
       "      <th>Age Groups</th>\n",
       "      <th>total activities</th>\n",
       "      <th>total low attendance</th>\n",
       "      <th>% low attendance</th>\n",
       "    </tr>\n",
       "  </thead>\n",
       "  <tbody>\n",
       "    <tr>\n",
       "      <th>3</th>\n",
       "      <td>Teens</td>\n",
       "      <td>378</td>\n",
       "      <td>145</td>\n",
       "      <td>38.359788</td>\n",
       "    </tr>\n",
       "    <tr>\n",
       "      <th>1</th>\n",
       "      <td>Adults</td>\n",
       "      <td>296</td>\n",
       "      <td>95</td>\n",
       "      <td>32.094595</td>\n",
       "    </tr>\n",
       "    <tr>\n",
       "      <th>2</th>\n",
       "      <td>Children</td>\n",
       "      <td>8136</td>\n",
       "      <td>2269</td>\n",
       "      <td>27.888397</td>\n",
       "    </tr>\n",
       "    <tr>\n",
       "      <th>0</th>\n",
       "      <td>Seniors</td>\n",
       "      <td>2364</td>\n",
       "      <td>346</td>\n",
       "      <td>14.636210</td>\n",
       "    </tr>\n",
       "  </tbody>\n",
       "</table>\n",
       "</div>"
      ],
      "text/plain": [
       "  Age Groups total activities total low attendance  % low attendance\n",
       "3      Teens              378                  145         38.359788\n",
       "1     Adults              296                   95         32.094595\n",
       "2   Children             8136                 2269         27.888397\n",
       "0    Seniors             2364                  346         14.636210"
      ]
     },
     "execution_count": 297,
     "metadata": {},
     "output_type": "execute_result"
    }
   ],
   "source": [
    "ages.sort_values(by='% low attendance', ascending=False).head(5)"
   ]
  },
  {
   "cell_type": "code",
   "execution_count": null,
   "metadata": {},
   "outputs": [],
   "source": []
  }
 ],
 "metadata": {
  "kernelspec": {
   "display_name": "Python 3",
   "language": "python",
   "name": "python3"
  },
  "language_info": {
   "codemirror_mode": {
    "name": "ipython",
    "version": 3
   },
   "file_extension": ".py",
   "mimetype": "text/x-python",
   "name": "python",
   "nbconvert_exporter": "python",
   "pygments_lexer": "ipython3",
   "version": "3.7.0"
  }
 },
 "nbformat": 4,
 "nbformat_minor": 2
}
